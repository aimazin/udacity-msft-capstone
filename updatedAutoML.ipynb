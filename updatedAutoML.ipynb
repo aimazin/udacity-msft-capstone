{
  "nbformat": 4,
  "nbformat_minor": 0,
  "metadata": {
    "colab": {
      "provenance": [],
      "authorship_tag": "ABX9TyN4XEOJ4DHLlC9NJdocKsPS",
      "include_colab_link": true
    },
    "kernelspec": {
      "name": "python3",
      "display_name": "Python 3"
    },
    "language_info": {
      "name": "python"
    }
  },
  "cells": [
    {
      "cell_type": "markdown",
      "metadata": {
        "id": "view-in-github",
        "colab_type": "text"
      },
      "source": [
        "<a href=\"https://colab.research.google.com/github/aimazin/udacity-msft-capstone/blob/main/updatedAutoML.ipynb\" target=\"_parent\"><img src=\"https://colab.research.google.com/assets/colab-badge.svg\" alt=\"Open In Colab\"/></a>"
      ]
    },
    {
      "cell_type": "code",
      "execution_count": null,
      "metadata": {
        "id": "xc8JQbOOyYJL"
      },
      "outputs": [],
      "source": [
        "from azure.identity import DefaultAzureCredential\n",
        "from azure.ai.ml import MLClient\n",
        "from azure.ai.ml.entities import DataImport\n",
        "from azure.ai.ml.data_transfer import FileSystem\n",
        "from azure.ai.ml import automl, Input\n",
        "from azure.ai.ml.entities import Model\n",
        "from azure.ai.ml.constants import AssetTypes\n",
        "\n",
        "credential = DefaultAzureCredential()\n",
        "ml_client = None\n",
        "try:\n",
        "    ml_client = MLClient.from_default_credential()\n",
        "except Exception as ex:\n",
        "    print(ex)\n",
        "    # Enter details of your Azure Machine Learning workspace\n",
        "    subscription_id = \"<SUBSCRIPTION_ID>\"\n",
        "    resource_group = \"<RESOURCE_GROUP>\"\n",
        "    workspace = \"<AZUREML_WORKSPACE_NAME>\"\n",
        "    ml_client = MLClient(credential, subscription_id, resource_group, workspace)\n",
        "\n",
        "data_import = DataImport(name=\"ethdata\")\n",
        "ml_client.data.import_data(data_import=data_import)\n",
        "\n",
        "my_training_data_input  = Input(type=AssetTypes.MLTABLE,\n",
        "                                path=\"azureml://datastores/workspaceblobstore/paths/Forcasting/ethdata\")\n",
        "\n",
        "forecasting_job = automl.forecasting(\n",
        "    compute=my_compute_name,\n",
        "    experiment_name='model-*',\n",
        "    training_data=my_training_data_input,\n",
        "    target_column_name=\"y\",\n",
        "    primary_metric=\"normalized_root_mean_squared_error\",\n",
        "    enable_model_explainability=True\n",
        ")\n",
        "\n",
        "forecasting_job.set_limits(\n",
        "    timeout_minutes=600,\n",
        "    trial_timeout_minutes=20,\n",
        "    max_trials=5,\n",
        "    enable_early_termination=True,\n",
        ")\n",
        "\n",
        "forecasting_job.set_training(\n",
        "    blocked_training_algorithms=[\"ARIMA\"],\n",
        "    enable_onnx_compatible_models=True\n",
        ")\n",
        "\n",
        "returned_sweep_job = ml_client.jobs.create_or_update(forecasting_job)\n",
        "\n",
        "file_model = Model(\n",
        "    path=\"mlflow-model/model.pkl\",\n",
        "    type=AssetTypes.CUSTOM_MODEL,\n",
        "    name=\"model-1\"\n",
        ")\n",
        "\n",
        "\n",
        "returned_sweep_job = ml_client.create_or_update(file_model)\n",
        "\n",
        "\n",
        "returned_sweep_job = ml_client.online_endpoints.invoke(\n",
        "    endpoint_name='aut_eth',\n",
        "    request_file=\"../model-1/sample-request.json\",\n",
        "    local=True,\n",
        ")\n",
        "\n",
        "endpoint = ml_client.online_endpoints.get('aut_eth', local=True)\n",
        "\n",
        "endpoint = ml_client.create_or_update(endpoint, local=True)\n",
        "\n",
        "scoring_uri = endpoint.scoring_uri\n",
        "\n"
      ]
    }
  ]
}