{
 "cells": [
  {
   "cell_type": "markdown",
   "metadata": {},
   "source": [
    "# Automated ML\n",
    "\n",
    "TODO: Import Dependencies. In the cell below, import all the dependencies that you will need to complete the project."
   ]
  },
  {
   "cell_type": "code",
   "execution_count": 1,
   "metadata": {
    "gather": {
     "logged": 1598423888013
    },
    "jupyter": {
     "outputs_hidden": false,
     "source_hidden": false
    },
    "nteract": {
     "transient": {
      "deleting": false
     }
    }
   },
   "outputs": [],
   "source": [
    "import pandas\n",
    "import numpy as np\n",
    "from azureml.core import Workspace, Dataset, Experiment\n",
    "from azureml.train.automl import AutoMLConfig\n",
    "from azureml.automl.core.forecasting_parameters import ForecastingParameters\n",
    "import logging\n",
    "from azureml.widgets import RunDetails\n",
    "from azureml.core.webservice import AciWebservice, Webservice\n",
    "from azureml.core.model import Model\n",
    "import requests"
   ]
  },
  {
   "cell_type": "markdown",
   "metadata": {},
   "source": [
    "## Dataset\n",
    "\n",
    "### Overview\n",
    "TODO: In this markdown cell, give an overview of the dataset you are using. Also mention the task you will be performing.\n",
    "\n",
    "\n",
    "TODO: Get data. In the cell below, write code to access the data you will be using in this project. Remember that the dataset needs to be external."
   ]
  },
  {
   "cell_type": "code",
   "execution_count": 2,
   "metadata": {
    "gather": {
     "logged": 1598423890461
    },
    "jupyter": {
     "outputs_hidden": false,
     "source_hidden": false
    },
    "nteract": {
     "transient": {
      "deleting": false
     }
    }
   },
   "outputs": [],
   "source": [
    "ws = Workspace.from_config()\n",
    "\n",
    "# choose a name for experiment\n",
    "experiment_name = 'automlethtime'\n",
    "\n",
    "experiment=Experiment(ws, experiment_name)"
   ]
  },
  {
   "cell_type": "code",
   "execution_count": 16,
   "metadata": {},
   "outputs": [
    {
     "data": {
      "text/html": [
       "<div>\n",
       "<style scoped>\n",
       "    .dataframe tbody tr th:only-of-type {\n",
       "        vertical-align: middle;\n",
       "    }\n",
       "\n",
       "    .dataframe tbody tr th {\n",
       "        vertical-align: top;\n",
       "    }\n",
       "\n",
       "    .dataframe thead th {\n",
       "        text-align: right;\n",
       "    }\n",
       "</style>\n",
       "<table border=\"1\" class=\"dataframe\">\n",
       "  <thead>\n",
       "    <tr style=\"text-align: right;\">\n",
       "      <th></th>\n",
       "      <th>Column1</th>\n",
       "      <th>Open</th>\n",
       "      <th>High</th>\n",
       "      <th>Low</th>\n",
       "      <th>Close</th>\n",
       "      <th>Volume</th>\n",
       "      <th>Dividends</th>\n",
       "      <th>Stock Splits</th>\n",
       "      <th>row_num</th>\n",
       "      <th>row_weight</th>\n",
       "    </tr>\n",
       "  </thead>\n",
       "  <tbody>\n",
       "    <tr>\n",
       "      <th>0</th>\n",
       "      <td>2021-09-01 00:00:00</td>\n",
       "      <td>3413.356201</td>\n",
       "      <td>3444.100586</td>\n",
       "      <td>3397.403076</td>\n",
       "      <td>3401.603027</td>\n",
       "      <td>0</td>\n",
       "      <td>0</td>\n",
       "      <td>0</td>\n",
       "      <td>0</td>\n",
       "      <td>1.0</td>\n",
       "    </tr>\n",
       "    <tr>\n",
       "      <th>1</th>\n",
       "      <td>2021-09-01 01:00:00</td>\n",
       "      <td>3401.612061</td>\n",
       "      <td>3436.218506</td>\n",
       "      <td>3387.408447</td>\n",
       "      <td>3427.627441</td>\n",
       "      <td>315990016</td>\n",
       "      <td>0</td>\n",
       "      <td>0</td>\n",
       "      <td>1</td>\n",
       "      <td>1.0</td>\n",
       "    </tr>\n",
       "    <tr>\n",
       "      <th>2</th>\n",
       "      <td>2021-09-01 02:00:00</td>\n",
       "      <td>3421.749512</td>\n",
       "      <td>3444.784668</td>\n",
       "      <td>3417.847412</td>\n",
       "      <td>3423.020020</td>\n",
       "      <td>255442944</td>\n",
       "      <td>0</td>\n",
       "      <td>0</td>\n",
       "      <td>2</td>\n",
       "      <td>1.0</td>\n",
       "    </tr>\n",
       "    <tr>\n",
       "      <th>3</th>\n",
       "      <td>2021-09-01 03:00:00</td>\n",
       "      <td>3417.972412</td>\n",
       "      <td>3443.150146</td>\n",
       "      <td>3412.599854</td>\n",
       "      <td>3443.150146</td>\n",
       "      <td>115654656</td>\n",
       "      <td>0</td>\n",
       "      <td>0</td>\n",
       "      <td>3</td>\n",
       "      <td>1.0</td>\n",
       "    </tr>\n",
       "    <tr>\n",
       "      <th>4</th>\n",
       "      <td>2021-09-01 04:00:00</td>\n",
       "      <td>3440.952637</td>\n",
       "      <td>3460.789062</td>\n",
       "      <td>3433.136719</td>\n",
       "      <td>3457.959961</td>\n",
       "      <td>292694016</td>\n",
       "      <td>0</td>\n",
       "      <td>0</td>\n",
       "      <td>4</td>\n",
       "      <td>1.0</td>\n",
       "    </tr>\n",
       "    <tr>\n",
       "      <th>...</th>\n",
       "      <td>...</td>\n",
       "      <td>...</td>\n",
       "      <td>...</td>\n",
       "      <td>...</td>\n",
       "      <td>...</td>\n",
       "      <td>...</td>\n",
       "      <td>...</td>\n",
       "      <td>...</td>\n",
       "      <td>...</td>\n",
       "      <td>...</td>\n",
       "    </tr>\n",
       "    <tr>\n",
       "      <th>1306</th>\n",
       "      <td>2021-10-27 18:00:00</td>\n",
       "      <td>3990.167969</td>\n",
       "      <td>4007.307617</td>\n",
       "      <td>3980.632324</td>\n",
       "      <td>3983.689697</td>\n",
       "      <td>0</td>\n",
       "      <td>0</td>\n",
       "      <td>0</td>\n",
       "      <td>1306</td>\n",
       "      <td>1.0</td>\n",
       "    </tr>\n",
       "    <tr>\n",
       "      <th>1307</th>\n",
       "      <td>2021-10-27 19:00:00</td>\n",
       "      <td>3972.544189</td>\n",
       "      <td>4005.208740</td>\n",
       "      <td>3948.058838</td>\n",
       "      <td>4004.789551</td>\n",
       "      <td>647258112</td>\n",
       "      <td>0</td>\n",
       "      <td>0</td>\n",
       "      <td>1307</td>\n",
       "      <td>1.0</td>\n",
       "    </tr>\n",
       "    <tr>\n",
       "      <th>1308</th>\n",
       "      <td>2021-10-27 20:00:00</td>\n",
       "      <td>4003.598877</td>\n",
       "      <td>4024.692139</td>\n",
       "      <td>3965.883789</td>\n",
       "      <td>3984.781738</td>\n",
       "      <td>0</td>\n",
       "      <td>0</td>\n",
       "      <td>0</td>\n",
       "      <td>1308</td>\n",
       "      <td>1.0</td>\n",
       "    </tr>\n",
       "    <tr>\n",
       "      <th>1309</th>\n",
       "      <td>2021-10-27 21:00:00</td>\n",
       "      <td>3986.961914</td>\n",
       "      <td>4011.909424</td>\n",
       "      <td>3978.768311</td>\n",
       "      <td>3999.894775</td>\n",
       "      <td>25716736</td>\n",
       "      <td>0</td>\n",
       "      <td>0</td>\n",
       "      <td>1309</td>\n",
       "      <td>1.0</td>\n",
       "    </tr>\n",
       "    <tr>\n",
       "      <th>1310</th>\n",
       "      <td>2021-10-27 22:00:00</td>\n",
       "      <td>3996.646484</td>\n",
       "      <td>3998.841797</td>\n",
       "      <td>3962.483154</td>\n",
       "      <td>3975.500488</td>\n",
       "      <td>0</td>\n",
       "      <td>0</td>\n",
       "      <td>0</td>\n",
       "      <td>1310</td>\n",
       "      <td>1.0</td>\n",
       "    </tr>\n",
       "  </tbody>\n",
       "</table>\n",
       "<p>1311 rows × 10 columns</p>\n",
       "</div>"
      ],
      "text/plain": [
       "                 Column1         Open         High          Low        Close  \\\n",
       "0    2021-09-01 00:00:00  3413.356201  3444.100586  3397.403076  3401.603027   \n",
       "1    2021-09-01 01:00:00  3401.612061  3436.218506  3387.408447  3427.627441   \n",
       "2    2021-09-01 02:00:00  3421.749512  3444.784668  3417.847412  3423.020020   \n",
       "3    2021-09-01 03:00:00  3417.972412  3443.150146  3412.599854  3443.150146   \n",
       "4    2021-09-01 04:00:00  3440.952637  3460.789062  3433.136719  3457.959961   \n",
       "...                  ...          ...          ...          ...          ...   \n",
       "1306 2021-10-27 18:00:00  3990.167969  4007.307617  3980.632324  3983.689697   \n",
       "1307 2021-10-27 19:00:00  3972.544189  4005.208740  3948.058838  4004.789551   \n",
       "1308 2021-10-27 20:00:00  4003.598877  4024.692139  3965.883789  3984.781738   \n",
       "1309 2021-10-27 21:00:00  3986.961914  4011.909424  3978.768311  3999.894775   \n",
       "1310 2021-10-27 22:00:00  3996.646484  3998.841797  3962.483154  3975.500488   \n",
       "\n",
       "         Volume  Dividends  Stock Splits  row_num  row_weight  \n",
       "0             0          0             0        0         1.0  \n",
       "1     315990016          0             0        1         1.0  \n",
       "2     255442944          0             0        2         1.0  \n",
       "3     115654656          0             0        3         1.0  \n",
       "4     292694016          0             0        4         1.0  \n",
       "...         ...        ...           ...      ...         ...  \n",
       "1306          0          0             0     1306         1.0  \n",
       "1307  647258112          0             0     1307         1.0  \n",
       "1308          0          0             0     1308         1.0  \n",
       "1309   25716736          0             0     1309         1.0  \n",
       "1310          0          0             0     1310         1.0  \n",
       "\n",
       "[1311 rows x 10 columns]"
      ]
     },
     "execution_count": 16,
     "metadata": {},
     "output_type": "execute_result"
    }
   ],
   "source": [
    "# azureml-core of version 1.0.72 or higher is required\n",
    "# azureml-dataprep[pandas] of version 1.1.34 or higher is required\n",
    "from azureml.core import Workspace, Dataset\n",
    "\n",
    "subscription_id = 'd4ad7261-832d-46b2-b093-22156001df5b'\n",
    "resource_group = 'aml-quickstarts-164073'\n",
    "workspace_name = 'quick-starts-ws-164073'\n",
    "\n",
    "workspace = Workspace(subscription_id, resource_group, workspace_name)\n",
    "\n",
    "dataset = Dataset.get_by_name(workspace, name='ethdata')\n",
    "ds=dataset.to_pandas_dataframe()"
   ]
  },
  {
   "cell_type": "markdown",
   "metadata": {},
   "source": [
    "Creating train and test sets\n"
   ]
  },
  {
   "cell_type": "code",
   "execution_count": 6,
   "metadata": {},
   "outputs": [],
   "source": [
    "train_data = ds.iloc[:1250]\n",
    "test_data = ds.iloc[-60:]\n",
    "\n",
    "label =  \"Close\"\n",
    " \n",
    "test_labels = test_data.pop(label).values"
   ]
  },
  {
   "cell_type": "markdown",
   "metadata": {},
   "source": [
    "## AutoML Configuration\n",
    "\n",
    "TODO: Explain why you chose the automl settings and cofiguration you used below."
   ]
  },
  {
   "cell_type": "code",
   "execution_count": 15,
   "metadata": {},
   "outputs": [
    {
     "ename": "ConfigException",
     "evalue": "ConfigException:\n\tMessage: An empty value for argument [time_column_name] is provided.\n\tInnerException: None\n\tErrorResponse \n{\n    \"error\": {\n        \"code\": \"UserError\",\n        \"message\": \"An empty value for argument [time_column_name] is provided.\",\n        \"target\": \"time_column_name\",\n        \"inner_error\": {\n            \"code\": \"BadArgument\",\n            \"inner_error\": {\n                \"code\": \"ArgumentBlankOrEmpty\"\n            }\n        },\n        \"reference_code\": \"51c61deb-adeb-43a2-b7ca-217da12f0b48\"\n    }\n}",
     "output_type": "error",
     "traceback": [
      "\u001b[0;31m---------------------------------------------------------------------------\u001b[0m",
      "\u001b[0;31mConfigException\u001b[0m                           Traceback (most recent call last)",
      "\u001b[0;32m<ipython-input-15-7b266cdd52f7>\u001b[0m in \u001b[0;36m<module>\u001b[0;34m\u001b[0m\n\u001b[1;32m      3\u001b[0m \u001b[0;34m\u001b[0m\u001b[0m\n\u001b[1;32m      4\u001b[0m                                                \u001b[0mfreq\u001b[0m\u001b[0;34m=\u001b[0m\u001b[0;34m'H'\u001b[0m\u001b[0;34m,\u001b[0m\u001b[0;34m\u001b[0m\u001b[0;34m\u001b[0m\u001b[0m\n\u001b[0;32m----> 5\u001b[0;31m                                                target_lags='auto'),\n\u001b[0m\u001b[1;32m      6\u001b[0m                                                \u001b[0;31m#target_rolling_window_size=10)\u001b[0m\u001b[0;34m\u001b[0m\u001b[0;34m\u001b[0m\u001b[0;34m\u001b[0m\u001b[0m\n",
      "\u001b[0;32m/anaconda/envs/azureml_py36/lib/python3.6/site-packages/azureml/automl/core/forecasting_parameters.py\u001b[0m in \u001b[0;36m__init__\u001b[0;34m(self, time_column_name, forecast_horizon, time_series_id_column_names, group_column_names, target_lags, feature_lags, target_rolling_window_size, holiday_country, seasonality, country_or_region_for_holidays, use_stl, short_series_handling, short_series_handling_configuration, freq, target_aggregation_function, validate_parameters, **kwargs)\u001b[0m\n\u001b[1;32m    502\u001b[0m \u001b[0;34m\u001b[0m\u001b[0m\n\u001b[1;32m    503\u001b[0m         \u001b[0;32mif\u001b[0m \u001b[0mvalidate_parameters\u001b[0m\u001b[0;34m:\u001b[0m\u001b[0;34m\u001b[0m\u001b[0;34m\u001b[0m\u001b[0m\n\u001b[0;32m--> 504\u001b[0;31m             \u001b[0mself\u001b[0m\u001b[0;34m.\u001b[0m\u001b[0mvalidate_parameters\u001b[0m\u001b[0;34m(\u001b[0m\u001b[0;34m)\u001b[0m\u001b[0;34m\u001b[0m\u001b[0;34m\u001b[0m\u001b[0m\n\u001b[0m\u001b[1;32m    505\u001b[0m         \u001b[0mself\u001b[0m\u001b[0;34m.\u001b[0m\u001b[0m_sync_short_series_handling_params\u001b[0m\u001b[0;34m(\u001b[0m\u001b[0;34m)\u001b[0m\u001b[0;34m\u001b[0m\u001b[0;34m\u001b[0m\u001b[0m\n\u001b[1;32m    506\u001b[0m \u001b[0;34m\u001b[0m\u001b[0m\n",
      "\u001b[0;32m/anaconda/envs/azureml_py36/lib/python3.6/site-packages/azureml/automl/core/forecasting_parameters.py\u001b[0m in \u001b[0;36mvalidate_parameters\u001b[0;34m(self)\u001b[0m\n\u001b[1;32m    509\u001b[0m         \u001b[0mValidate\u001b[0m \u001b[0mthe\u001b[0m \u001b[0mparameters\u001b[0m \u001b[0;32min\u001b[0m \u001b[0mthe\u001b[0m \u001b[0mForecastingParameters\u001b[0m \u001b[0;32mclass\u001b[0m\u001b[0;34m.\u001b[0m\u001b[0;34m\u001b[0m\u001b[0;34m\u001b[0m\u001b[0m\n\u001b[1;32m    510\u001b[0m         \"\"\"\n\u001b[0;32m--> 511\u001b[0;31m         \u001b[0mself\u001b[0m\u001b[0;34m.\u001b[0m\u001b[0m_validate_time_column_name\u001b[0m\u001b[0;34m(\u001b[0m\u001b[0;34m)\u001b[0m\u001b[0;34m\u001b[0m\u001b[0;34m\u001b[0m\u001b[0m\n\u001b[0m\u001b[1;32m    512\u001b[0m         \u001b[0mself\u001b[0m\u001b[0;34m.\u001b[0m\u001b[0m_validate_time_series_id_column_names\u001b[0m\u001b[0;34m(\u001b[0m\u001b[0;34m)\u001b[0m\u001b[0;34m\u001b[0m\u001b[0;34m\u001b[0m\u001b[0m\n\u001b[1;32m    513\u001b[0m         \u001b[0mself\u001b[0m\u001b[0;34m.\u001b[0m\u001b[0m_validate_forecast_horizon\u001b[0m\u001b[0;34m(\u001b[0m\u001b[0;34m)\u001b[0m\u001b[0;34m\u001b[0m\u001b[0;34m\u001b[0m\u001b[0m\n",
      "\u001b[0;32m/anaconda/envs/azureml_py36/lib/python3.6/site-packages/azureml/automl/core/forecasting_parameters.py\u001b[0m in \u001b[0;36m_validate_time_column_name\u001b[0;34m(self)\u001b[0m\n\u001b[1;32m    855\u001b[0m                 AzureMLError.create(\n\u001b[1;32m    856\u001b[0m                     \u001b[0mArgumentBlankOrEmpty\u001b[0m\u001b[0;34m,\u001b[0m \u001b[0mtarget\u001b[0m\u001b[0;34m=\u001b[0m\u001b[0;34m\"time_column_name\"\u001b[0m\u001b[0;34m,\u001b[0m \u001b[0margument_name\u001b[0m\u001b[0;34m=\u001b[0m\u001b[0;34m\"time_column_name\"\u001b[0m\u001b[0;34m,\u001b[0m\u001b[0;34m\u001b[0m\u001b[0;34m\u001b[0m\u001b[0m\n\u001b[0;32m--> 857\u001b[0;31m                     \u001b[0mreference_code\u001b[0m\u001b[0;34m=\u001b[0m\u001b[0mReferenceCodes\u001b[0m\u001b[0;34m.\u001b[0m\u001b[0m_FORECASTING_PARAM_TIME_COLUMN_MISSING\u001b[0m\u001b[0;34m\u001b[0m\u001b[0;34m\u001b[0m\u001b[0m\n\u001b[0m\u001b[1;32m    858\u001b[0m                 )\n\u001b[1;32m    859\u001b[0m             )\n",
      "\u001b[0;31mConfigException\u001b[0m: ConfigException:\n\tMessage: An empty value for argument [time_column_name] is provided.\n\tInnerException: None\n\tErrorResponse \n{\n    \"error\": {\n        \"code\": \"UserError\",\n        \"message\": \"An empty value for argument [time_column_name] is provided.\",\n        \"target\": \"time_column_name\",\n        \"inner_error\": {\n            \"code\": \"BadArgument\",\n            \"inner_error\": {\n                \"code\": \"ArgumentBlankOrEmpty\"\n            }\n        },\n        \"reference_code\": \"51c61deb-adeb-43a2-b7ca-217da12f0b48\"\n    }\n}"
     ]
    }
   ],
   "source": [
    "\n",
    "forecasting_parameters = ForecastingParameters(time_column_name=0, \n",
    "                                               forecast_horizon=60,\n",
    "                                              \n",
    "                                               freq='H',\n",
    "                                               target_lags='auto'),\n",
    "                                               #target_rolling_window_size=10)"
   ]
  },
  {
   "cell_type": "code",
   "execution_count": 21,
   "metadata": {
    "gather": {
     "logged": 1598429217746
    },
    "jupyter": {
     "outputs_hidden": false,
     "source_hidden": false
    },
    "nteract": {
     "transient": {
      "deleting": false
     }
    }
   },
   "outputs": [],
   "source": [
    "from azureml.automl.core.forecasting_parameters import ForecastingParameters\n",
    "\n",
    "forecasting_parameters = {'time_column_name':'Column1', \n",
    "                                               'forecast_horizon':60,\n",
    "                                               'freq':'H',\n",
    "                                               'target_lags':'auto',\n",
    "                                               'target_rolling_window_size':10}\n",
    "\n",
    "automl_config = AutoMLConfig(task='forecasting',\n",
    "                             #enable_dnn=True,\n",
    "                             primary_metric='normalized_root_mean_squared_error',\n",
    "                             experiment_timeout_minutes=15,\n",
    "                             enable_early_stopping=True,\n",
    "                             training_data=train_data,\n",
    "                             label_column_name=label,\n",
    "                             n_cross_validations=5,\n",
    "                             enable_ensembling=False,\n",
    "                             verbosity=logging.INFO,\n",
    "                             **forecasting_parameters)"
   ]
  },
  {
   "cell_type": "code",
   "execution_count": 22,
   "metadata": {
    "gather": {
     "logged": 1598431107951
    },
    "jupyter": {
     "outputs_hidden": false,
     "source_hidden": false
    },
    "nteract": {
     "transient": {
      "deleting": false
     }
    }
   },
   "outputs": [
    {
     "name": "stderr",
     "output_type": "stream",
     "text": [
      "WARNING:root:Running on local machine. Note that local runs always run synchronously even if you use the parameter 'show_output=False'\n"
     ]
    },
    {
     "data": {
      "text/html": [
       "<table style=\"width:100%\"><tr><th>Experiment</th><th>Id</th><th>Type</th><th>Status</th><th>Details Page</th><th>Docs Page</th></tr><tr><td>automlethtime</td><td>AutoML_0b90bf69-8431-4129-a9b6-5bd791b646f3</td><td>automl</td><td>Preparing</td><td><a href=\"https://ml.azure.com/runs/AutoML_0b90bf69-8431-4129-a9b6-5bd791b646f3?wsid=/subscriptions/d4ad7261-832d-46b2-b093-22156001df5b/resourcegroups/aml-quickstarts-164073/workspaces/quick-starts-ws-164073&amp;tid=660b3398-b80e-49d2-bc5b-ac1dc93b5254\" target=\"_blank\" rel=\"noopener\">Link to Azure Machine Learning studio</a></td><td><a href=\"https://docs.microsoft.com/en-us/python/api/overview/azure/ml/intro?view=azure-ml-py\" target=\"_blank\" rel=\"noopener\">Link to Documentation</a></td></tr></table>"
      ],
      "text/plain": [
       "<IPython.core.display.HTML object>"
      ]
     },
     "metadata": {},
     "output_type": "display_data"
    },
    {
     "name": "stderr",
     "output_type": "stream",
     "text": [
      "The module is deprecated in version 0.21 and will be removed in version 0.23 since we've dropped support for Python 2.7. Please rely on the official version of six (https://pypi.org/project/six/).\n",
      "numpy.ufunc size changed, may indicate binary incompatibility. Expected 192 from C header, got 216 from PyObject\n",
      "sklearn.externals.joblib is deprecated in 0.21 and will be removed in 0.23. Please import this functionality directly from joblib, which can be installed with: pip install joblib. If this warning is raised when loading pickled models, you may need to re-serialize those models with scikit-learn 0.21+.\n",
      "INFO:interpret_community.common.explanation_utils:Using default datastore for uploads\n"
     ]
    }
   ],
   "source": [
    "# TODO: Submit your experiment\n",
    "remote_run = experiment.submit(automl_config)"
   ]
  },
  {
   "cell_type": "markdown",
   "metadata": {},
   "source": [
    "## Run Details\n",
    "\n",
    "OPTIONAL: Write about the different models trained and their performance. Why do you think some models did better than others?\n",
    "\n",
    "TODO: In the cell below, use the `RunDetails` widget to show the different experiments."
   ]
  },
  {
   "cell_type": "code",
   "execution_count": 23,
   "metadata": {
    "gather": {
     "logged": 1598431121770
    },
    "jupyter": {
     "outputs_hidden": false,
     "source_hidden": false
    },
    "nteract": {
     "transient": {
      "deleting": false
     }
    }
   },
   "outputs": [
    {
     "data": {
      "application/vnd.jupyter.widget-view+json": {
       "model_id": "4a1febf6e4f6438fbfde013e2c0efd97",
       "version_major": 2,
       "version_minor": 0
      },
      "text/plain": [
       "_AutoMLWidget(widget_settings={'childWidgetDisplay': 'popup', 'send_telemetry': False, 'log_level': 'INFO', 's…"
      ]
     },
     "metadata": {},
     "output_type": "display_data"
    },
    {
     "data": {
      "application/aml.mini.widget.v1": "{\"status\": \"Completed\", \"workbench_run_details_uri\": \"https://ml.azure.com/runs/AutoML_0b90bf69-8431-4129-a9b6-5bd791b646f3?wsid=/subscriptions/d4ad7261-832d-46b2-b093-22156001df5b/resourcegroups/aml-quickstarts-164073/workspaces/quick-starts-ws-164073&tid=660b3398-b80e-49d2-bc5b-ac1dc93b5254\", \"run_id\": \"AutoML_0b90bf69-8431-4129-a9b6-5bd791b646f3\", \"run_properties\": {\"run_id\": \"AutoML_0b90bf69-8431-4129-a9b6-5bd791b646f3\", \"created_utc\": \"2021-11-20T18:35:26.606696Z\", \"properties\": {\"num_iterations\": \"1000\", \"training_type\": \"TrainFull\", \"acquisition_function\": \"EI\", \"primary_metric\": \"normalized_root_mean_squared_error\", \"train_split\": \"0\", \"acquisition_parameter\": \"0\", \"num_cross_validation\": \"5\", \"target\": \"local\", \"AMLSettingsJsonString\": \"{\\\"path\\\":null,\\\"name\\\":\\\"automlethtime\\\",\\\"subscription_id\\\":\\\"d4ad7261-832d-46b2-b093-22156001df5b\\\",\\\"resource_group\\\":\\\"aml-quickstarts-164073\\\",\\\"workspace_name\\\":\\\"quick-starts-ws-164073\\\",\\\"region\\\":\\\"southcentralus\\\",\\\"compute_target\\\":\\\"local\\\",\\\"spark_service\\\":null,\\\"azure_service\\\":\\\"Microsoft.AzureNotebookVM\\\",\\\"many_models\\\":false,\\\"pipeline_fetch_max_batch_size\\\":1,\\\"enable_batch_run\\\":false,\\\"enable_run_restructure\\\":false,\\\"start_auxiliary_runs_before_parent_complete\\\":false,\\\"enable_code_generation\\\":false,\\\"iterations\\\":1000,\\\"primary_metric\\\":\\\"normalized_root_mean_squared_error\\\",\\\"task_type\\\":\\\"regression\\\",\\\"data_script\\\":null,\\\"test_size\\\":0.0,\\\"test_include_predictions_only\\\":false,\\\"validation_size\\\":0.0,\\\"n_cross_validations\\\":5,\\\"y_min\\\":null,\\\"y_max\\\":null,\\\"num_classes\\\":null,\\\"featurization\\\":\\\"auto\\\",\\\"_ignore_package_version_incompatibilities\\\":false,\\\"is_timeseries\\\":true,\\\"max_cores_per_iteration\\\":1,\\\"max_concurrent_iterations\\\":1,\\\"iteration_timeout_minutes\\\":null,\\\"mem_in_mb\\\":null,\\\"enforce_time_on_windows\\\":false,\\\"experiment_timeout_minutes\\\":15,\\\"experiment_exit_score\\\":null,\\\"whitelist_models\\\":null,\\\"blacklist_algos\\\":[\\\"TensorFlowDNN\\\",\\\"TensorFlowLinearRegressor\\\"],\\\"supported_models\\\":[\\\"SeasonalAverage\\\",\\\"TensorFlowDNN\\\",\\\"Prophet\\\",\\\"XGBoostRegressor\\\",\\\"TensorFlowLinearRegressor\\\",\\\"AutoArima\\\",\\\"SeasonalNaive\\\",\\\"SGD\\\",\\\"GradientBoosting\\\",\\\"ExponentialSmoothing\\\",\\\"TCNForecaster\\\",\\\"Naive\\\",\\\"ElasticNet\\\",\\\"LassoLars\\\",\\\"DecisionTree\\\",\\\"Average\\\",\\\"KNN\\\",\\\"LightGBM\\\",\\\"RandomForest\\\",\\\"Arimax\\\",\\\"ExtremeRandomTrees\\\"],\\\"private_models\\\":[],\\\"auto_blacklist\\\":true,\\\"blacklist_samples_reached\\\":false,\\\"exclude_nan_labels\\\":true,\\\"verbosity\\\":20,\\\"_debug_log\\\":\\\"automl.log\\\",\\\"show_warnings\\\":false,\\\"model_explainability\\\":true,\\\"service_url\\\":null,\\\"sdk_url\\\":null,\\\"sdk_packages\\\":null,\\\"enable_onnx_compatible_models\\\":false,\\\"enable_split_onnx_featurizer_estimator_models\\\":false,\\\"vm_type\\\":null,\\\"telemetry_verbosity\\\":20,\\\"send_telemetry\\\":true,\\\"enable_dnn\\\":false,\\\"scenario\\\":\\\"SDK-1.13.0\\\",\\\"environment_label\\\":null,\\\"save_mlflow\\\":false,\\\"force_text_dnn\\\":false,\\\"enable_feature_sweeping\\\":false,\\\"time_column_name\\\":\\\"Column1\\\",\\\"grain_column_names\\\":null,\\\"drop_column_names\\\":[],\\\"max_horizon\\\":60,\\\"dropna\\\":false,\\\"overwrite_columns\\\":true,\\\"transform_dictionary\\\":{\\\"min\\\":\\\"_automl_target_col\\\",\\\"max\\\":\\\"_automl_target_col\\\",\\\"mean\\\":\\\"_automl_target_col\\\"},\\\"window_size\\\":10,\\\"country_or_region\\\":null,\\\"lags\\\":{\\\"_automl_target_col\\\":[\\\"auto\\\"]},\\\"feature_lags\\\":null,\\\"seasonality\\\":\\\"auto\\\",\\\"use_stl\\\":null,\\\"short_series_handling\\\":true,\\\"freq\\\":\\\"H\\\",\\\"short_series_handling_configuration\\\":\\\"auto\\\",\\\"target_aggregation_function\\\":null,\\\"enable_early_stopping\\\":true,\\\"early_stopping_n_iters\\\":10,\\\"metrics\\\":null,\\\"enable_metric_confidence\\\":false,\\\"enable_ensembling\\\":false,\\\"enable_stack_ensembling\\\":false,\\\"ensemble_iterations\\\":15,\\\"enable_tf\\\":false,\\\"enable_subsampling\\\":false,\\\"subsample_seed\\\":null,\\\"enable_nimbusml\\\":false,\\\"enable_streaming\\\":false,\\\"force_streaming\\\":false,\\\"track_child_runs\\\":true,\\\"allowed_private_models\\\":[],\\\"label_column_name\\\":\\\"Close\\\",\\\"weight_column_name\\\":null,\\\"cv_split_column_names\\\":null,\\\"positive_label\\\":null,\\\"enable_local_managed\\\":false,\\\"_local_managed_run_id\\\":null,\\\"cost_mode\\\":1,\\\"lag_length\\\":0,\\\"metric_operation\\\":\\\"minimize\\\",\\\"preprocess\\\":true}\", \"DataPrepJsonString\": null, \"EnableSubsampling\": \"False\", \"runTemplate\": \"AutoML\", \"azureml.runsource\": \"automl\", \"display_task_type\": \"forecasting\", \"dependencies_versions\": \"{\\\"azureml-widgets\\\": \\\"1.34.0\\\", \\\"azureml-train\\\": \\\"1.34.0\\\", \\\"azureml-train-restclients-hyperdrive\\\": \\\"1.34.0\\\", \\\"azureml-train-core\\\": \\\"1.34.0\\\", \\\"azureml-train-automl\\\": \\\"1.34.0\\\", \\\"azureml-train-automl-runtime\\\": \\\"1.34.0\\\", \\\"azureml-train-automl-client\\\": \\\"1.34.0\\\", \\\"azureml-tensorboard\\\": \\\"1.34.0\\\", \\\"azureml-telemetry\\\": \\\"1.34.0\\\", \\\"azureml-sdk\\\": \\\"1.34.0\\\", \\\"azureml-samples\\\": \\\"0+unknown\\\", \\\"azureml-responsibleai\\\": \\\"1.34.0\\\", \\\"azureml-pipeline\\\": \\\"1.34.0\\\", \\\"azureml-pipeline-steps\\\": \\\"1.34.0\\\", \\\"azureml-pipeline-core\\\": \\\"1.34.0\\\", \\\"azureml-opendatasets\\\": \\\"1.34.0\\\", \\\"azureml-mlflow\\\": \\\"1.34.0\\\", \\\"azureml-interpret\\\": \\\"1.34.0\\\", \\\"azureml-inference-server-http\\\": \\\"0.3.1\\\", \\\"azureml-explain-model\\\": \\\"1.34.0\\\", \\\"azureml-defaults\\\": \\\"1.34.0\\\", \\\"azureml-dataset-runtime\\\": \\\"1.34.0\\\", \\\"azureml-dataprep\\\": \\\"2.22.2\\\", \\\"azureml-dataprep-rslex\\\": \\\"1.20.1\\\", \\\"azureml-dataprep-native\\\": \\\"38.0.0\\\", \\\"azureml-datadrift\\\": \\\"1.34.0\\\", \\\"azureml-core\\\": \\\"1.34.0\\\", \\\"azureml-contrib-services\\\": \\\"1.34.0\\\", \\\"azureml-contrib-server\\\": \\\"1.34.0\\\", \\\"azureml-contrib-reinforcementlearning\\\": \\\"1.34.0\\\", \\\"azureml-contrib-pipeline-steps\\\": \\\"1.34.0\\\", \\\"azureml-contrib-notebook\\\": \\\"1.34.0\\\", \\\"azureml-contrib-fairness\\\": \\\"1.34.0\\\", \\\"azureml-contrib-dataset\\\": \\\"1.34.0\\\", \\\"azureml-contrib-automl-pipeline-steps\\\": \\\"1.34.0\\\", \\\"azureml-cli-common\\\": \\\"1.34.0\\\", \\\"azureml-automl-runtime\\\": \\\"1.34.0\\\", \\\"azureml-automl-dnn-nlp\\\": \\\"1.34.0\\\", \\\"azureml-automl-core\\\": \\\"1.34.0\\\", \\\"azureml-accel-models\\\": \\\"1.34.0\\\"}\", \"_aml_system_scenario_identification\": \"Local.Parent\", \"ClientSdkVersion\": \"1.34.0\", \"ClientType\": \"SDK\", \"environment_cpu_name\": \"AzureML-AutoML\", \"environment_cpu_label\": \"prod\", \"environment_gpu_name\": \"AzureML-AutoML-GPU\", \"environment_gpu_label\": \"prod\", \"root_attribution\": \"automl\", \"attribution\": \"AutoML\", \"Orchestrator\": \"AutoML\", \"_azureml.ComputeTargetType\": \"local\", \"forecasting_target_lags\": \"[1]\", \"forecasting_target_rolling_window_size\": \"10\", \"forecasting_max_horizon\": \"60\", \"forecasting_freq\": \"H\", \"ProblemInfoJsonString\": \"{\\\"dataset_num_categorical\\\": 0, \\\"is_sparse\\\": false, \\\"subsampling\\\": false, \\\"has_extra_col\\\": true, \\\"dataset_classes\\\": 1250, \\\"dataset_features\\\": 30, \\\"dataset_samples\\\": 78240, \\\"single_frequency_class_detected\\\": false, \\\"series_column_count\\\": 1, \\\"series_count\\\": 1, \\\"series_len_min\\\": 1250, \\\"series_len_max\\\": 1250, \\\"series_len_avg\\\": 1250.0, \\\"series_len_perc_25\\\": 1250.0, \\\"series_len_perc_50\\\": 1250.0, \\\"series_len_perc_75\\\": 1250.0}\"}, \"tags\": {\"model_explain_run\": \"best_run\", \"auto\": \"Heuristic parameters: Target_Lag = '[1]'.\\n\", \"best_score\": \"0.006830232298642727\", \"best_pipeline\": \"ElasticNet\", \"automl_best_child_run_id\": \"AutoML_0b90bf69-8431-4129-a9b6-5bd791b646f3_15\", \"model_explain_best_run_child_id\": \"AutoML_0b90bf69-8431-4129-a9b6-5bd791b646f3_15\"}, \"end_time_utc\": \"2021-11-20T18:50:35.793388Z\", \"status\": \"Completed\", \"log_files\": {}, \"log_groups\": [], \"run_duration\": \"0:15:09\", \"run_number\": \"1\", \"run_queued_details\": {\"status\": \"Completed\", \"details\": null}}, \"child_runs\": [{\"run_id\": \"AutoML_0b90bf69-8431-4129-a9b6-5bd791b646f3_0\", \"run_number\": 2, \"metric\": null, \"status\": \"Completed\", \"run_type\": null, \"training_percent\": \"100\", \"start_time\": \"2021-11-20T18:35:51.684814Z\", \"end_time\": \"2021-11-20T18:36:25.249035Z\", \"created_time\": \"2021-11-20T18:35:51.579617Z\", \"created_time_dt\": \"2021-11-20T18:35:51.579617Z\", \"duration\": \"0:00:33\", \"iteration\": \"0\", \"goal\": \"normalized_root_mean_squared_error_min\", \"run_name\": \"Naive\", \"run_properties\": \"\\n    timeseries_param_dict={'time_column_name': 'Column1', 'grain_column_names': None, 'drop_column_names': [], 'overwrite_columns': True, 'dropna': False, 'transform_dictionary': {'min': '_automl_target_col', 'max': '_automl_target_col', 'mean': '_automl_target_col'}, 'max_horizon': 60, 'origin_time_colname': 'origin', 'country_or_region': None, 'n_cross_validations': 5, 'short_series_handling': True, 'max_cores_per_iteration': 1, 'feature_lags': None, 'target_aggregation_function': None, 'window_size': 10, 'lags': {'_automl_target_col': ['auto']}, 'seasonality': 24, 'use_stl': None, 'freq': 'H', 'short_series_handling_configuration': 'auto', 'target_lags': [1], 'target_rolling_window_size': 10, 'arimax_raw_columns': ['row_weight', 'Low', 'Open', 'Dividends', 'High', 'Volume', 'Column1', 'Stock Splits', 'row_num'], 'lagging_columns': ['_automl_target_col_occurrence_lag1H'], 'rolling_window_columns': ['_automl_target_col_min_window10H', '_automl_target_col_max_window10H', '_automl_target_col_mean_window10H']}\\n\", \"primary_metric\": 0.06816397, \"best_metric\": 0.06816397}, {\"run_id\": \"AutoML_0b90bf69-8431-4129-a9b6-5bd791b646f3_1\", \"run_number\": 3, \"metric\": null, \"status\": \"Completed\", \"run_type\": null, \"training_percent\": \"100\", \"start_time\": \"2021-11-20T18:36:25.570442Z\", \"end_time\": \"2021-11-20T18:36:57.209015Z\", \"created_time\": \"2021-11-20T18:36:25.459873Z\", \"created_time_dt\": \"2021-11-20T18:36:25.459873Z\", \"duration\": \"0:00:31\", \"iteration\": \"1\", \"goal\": \"normalized_root_mean_squared_error_min\", \"run_name\": \"SeasonalNaive\", \"run_properties\": \"\\n    timeseries_param_dict={'time_column_name': 'Column1', 'grain_column_names': None, 'drop_column_names': [], 'overwrite_columns': True, 'dropna': False, 'transform_dictionary': {'min': '_automl_target_col', 'max': '_automl_target_col', 'mean': '_automl_target_col'}, 'max_horizon': 60, 'origin_time_colname': 'origin', 'country_or_region': None, 'n_cross_validations': 5, 'short_series_handling': True, 'max_cores_per_iteration': 1, 'feature_lags': None, 'target_aggregation_function': None, 'window_size': 10, 'lags': {'_automl_target_col': ['auto']}, 'seasonality': 24, 'use_stl': None, 'freq': 'H', 'short_series_handling_configuration': 'auto', 'target_lags': [1], 'target_rolling_window_size': 10, 'arimax_raw_columns': ['row_weight', 'Low', 'Open', 'Dividends', 'High', 'Volume', 'Column1', 'Stock Splits', 'row_num'], 'lagging_columns': ['_automl_target_col_occurrence_lag1H'], 'rolling_window_columns': ['_automl_target_col_min_window10H', '_automl_target_col_max_window10H', '_automl_target_col_mean_window10H']}\\n\", \"primary_metric\": 0.04841833, \"best_metric\": 0.04841833}, {\"run_id\": \"AutoML_0b90bf69-8431-4129-a9b6-5bd791b646f3_2\", \"run_number\": 4, \"metric\": null, \"status\": \"Completed\", \"run_type\": null, \"training_percent\": \"100\", \"start_time\": \"2021-11-20T18:36:57.571855Z\", \"end_time\": \"2021-11-20T18:37:27.814392Z\", \"created_time\": \"2021-11-20T18:36:57.432004Z\", \"created_time_dt\": \"2021-11-20T18:36:57.432004Z\", \"duration\": \"0:00:30\", \"iteration\": \"2\", \"goal\": \"normalized_root_mean_squared_error_min\", \"run_name\": \"Average\", \"run_properties\": \"\\n    timeseries_param_dict={'time_column_name': 'Column1', 'grain_column_names': None, 'drop_column_names': [], 'overwrite_columns': True, 'dropna': False, 'transform_dictionary': {'min': '_automl_target_col', 'max': '_automl_target_col', 'mean': '_automl_target_col'}, 'max_horizon': 60, 'origin_time_colname': 'origin', 'country_or_region': None, 'n_cross_validations': 5, 'short_series_handling': True, 'max_cores_per_iteration': 1, 'feature_lags': None, 'target_aggregation_function': None, 'window_size': 10, 'lags': {'_automl_target_col': ['auto']}, 'seasonality': 24, 'use_stl': None, 'freq': 'H', 'short_series_handling_configuration': 'auto', 'target_lags': [1], 'target_rolling_window_size': 10, 'arimax_raw_columns': ['row_weight', 'Low', 'Open', 'Dividends', 'High', 'Volume', 'Column1', 'Stock Splits', 'row_num'], 'lagging_columns': ['_automl_target_col_occurrence_lag1H'], 'rolling_window_columns': ['_automl_target_col_min_window10H', '_automl_target_col_max_window10H', '_automl_target_col_mean_window10H']}\\n\", \"primary_metric\": 0.37903583, \"best_metric\": 0.04841833}, {\"run_id\": \"AutoML_0b90bf69-8431-4129-a9b6-5bd791b646f3_3\", \"run_number\": 5, \"metric\": null, \"status\": \"Completed\", \"run_type\": null, \"training_percent\": \"100\", \"start_time\": \"2021-11-20T18:37:28.181335Z\", \"end_time\": \"2021-11-20T18:37:59.241161Z\", \"created_time\": \"2021-11-20T18:37:28.068553Z\", \"created_time_dt\": \"2021-11-20T18:37:28.068553Z\", \"duration\": \"0:00:31\", \"iteration\": \"3\", \"goal\": \"normalized_root_mean_squared_error_min\", \"run_name\": \"SeasonalAverage\", \"run_properties\": \"\\n    timeseries_param_dict={'time_column_name': 'Column1', 'grain_column_names': None, 'drop_column_names': [], 'overwrite_columns': True, 'dropna': False, 'transform_dictionary': {'min': '_automl_target_col', 'max': '_automl_target_col', 'mean': '_automl_target_col'}, 'max_horizon': 60, 'origin_time_colname': 'origin', 'country_or_region': None, 'n_cross_validations': 5, 'short_series_handling': True, 'max_cores_per_iteration': 1, 'feature_lags': None, 'target_aggregation_function': None, 'window_size': 10, 'lags': {'_automl_target_col': ['auto']}, 'seasonality': 24, 'use_stl': None, 'freq': 'H', 'short_series_handling_configuration': 'auto', 'target_lags': [1], 'target_rolling_window_size': 10, 'arimax_raw_columns': ['row_weight', 'Low', 'Open', 'Dividends', 'High', 'Volume', 'Column1', 'Stock Splits', 'row_num'], 'lagging_columns': ['_automl_target_col_occurrence_lag1H'], 'rolling_window_columns': ['_automl_target_col_min_window10H', '_automl_target_col_max_window10H', '_automl_target_col_mean_window10H']}\\n\", \"primary_metric\": 0.0395681, \"best_metric\": 0.0395681}, {\"run_id\": \"AutoML_0b90bf69-8431-4129-a9b6-5bd791b646f3_4\", \"run_number\": 6, \"metric\": null, \"status\": \"Completed\", \"run_type\": null, \"training_percent\": \"100\", \"start_time\": \"2021-11-20T18:37:59.559371Z\", \"end_time\": \"2021-11-20T18:38:52.826874Z\", \"created_time\": \"2021-11-20T18:37:59.44217Z\", \"created_time_dt\": \"2021-11-20T18:37:59.44217Z\", \"duration\": \"0:00:53\", \"iteration\": \"4\", \"goal\": \"normalized_root_mean_squared_error_min\", \"run_name\": \"ExponentialSmoothing\", \"run_properties\": \"\\n    timeseries_param_dict={'time_column_name': 'Column1', 'grain_column_names': None, 'drop_column_names': [], 'overwrite_columns': True, 'dropna': False, 'transform_dictionary': {'min': '_automl_target_col', 'max': '_automl_target_col', 'mean': '_automl_target_col'}, 'max_horizon': 60, 'origin_time_colname': 'origin', 'country_or_region': None, 'n_cross_validations': 5, 'short_series_handling': True, 'max_cores_per_iteration': 1, 'feature_lags': None, 'target_aggregation_function': None, 'window_size': 10, 'lags': {'_automl_target_col': ['auto']}, 'seasonality': 24, 'use_stl': None, 'freq': 'H', 'short_series_handling_configuration': 'auto', 'target_lags': [1], 'target_rolling_window_size': 10, 'arimax_raw_columns': ['row_weight', 'Low', 'Open', 'Dividends', 'High', 'Volume', 'Column1', 'Stock Splits', 'row_num'], 'lagging_columns': ['_automl_target_col_occurrence_lag1H'], 'rolling_window_columns': ['_automl_target_col_min_window10H', '_automl_target_col_max_window10H', '_automl_target_col_mean_window10H']}\\n\", \"primary_metric\": 0.06781285, \"best_metric\": 0.0395681}, {\"run_id\": \"AutoML_0b90bf69-8431-4129-a9b6-5bd791b646f3_5\", \"run_number\": 7, \"metric\": null, \"status\": \"Completed\", \"run_type\": null, \"training_percent\": \"100\", \"start_time\": \"2021-11-20T18:38:53.215017Z\", \"end_time\": \"2021-11-20T18:39:51.734858Z\", \"created_time\": \"2021-11-20T18:38:53.080423Z\", \"created_time_dt\": \"2021-11-20T18:38:53.080423Z\", \"duration\": \"0:00:58\", \"iteration\": \"5\", \"goal\": \"normalized_root_mean_squared_error_min\", \"run_name\": \"Arimax\", \"run_properties\": \"\\n    timeseries_param_dict={'time_column_name': 'Column1', 'grain_column_names': None, 'drop_column_names': [], 'overwrite_columns': True, 'dropna': False, 'transform_dictionary': {'min': '_automl_target_col', 'max': '_automl_target_col', 'mean': '_automl_target_col'}, 'max_horizon': 60, 'origin_time_colname': 'origin', 'country_or_region': None, 'n_cross_validations': 5, 'short_series_handling': True, 'max_cores_per_iteration': 1, 'feature_lags': None, 'target_aggregation_function': None, 'window_size': 10, 'lags': {'_automl_target_col': ['auto']}, 'seasonality': 24, 'use_stl': None, 'freq': 'H', 'short_series_handling_configuration': 'auto', 'target_lags': [1], 'target_rolling_window_size': 10, 'arimax_raw_columns': ['row_weight', 'Low', 'Open', 'Dividends', 'High', 'Volume', 'Column1', 'Stock Splits', 'row_num'], 'lagging_columns': ['_automl_target_col_occurrence_lag1H'], 'rolling_window_columns': ['_automl_target_col_min_window10H', '_automl_target_col_max_window10H', '_automl_target_col_mean_window10H']}\\n\", \"primary_metric\": 0.05714073, \"best_metric\": 0.0395681}, {\"run_id\": \"AutoML_0b90bf69-8431-4129-a9b6-5bd791b646f3_6\", \"run_number\": 8, \"metric\": null, \"status\": \"Completed\", \"run_type\": null, \"training_percent\": \"100\", \"start_time\": \"2021-11-20T18:39:52.19997Z\", \"end_time\": \"2021-11-20T18:40:34.383897Z\", \"created_time\": \"2021-11-20T18:39:52.081974Z\", \"created_time_dt\": \"2021-11-20T18:39:52.081974Z\", \"duration\": \"0:00:42\", \"iteration\": \"6\", \"goal\": \"normalized_root_mean_squared_error_min\", \"run_name\": \"ProphetModel\", \"run_properties\": \"\\n    timeseries_param_dict={'time_column_name': 'Column1', 'grain_column_names': None, 'drop_column_names': [], 'overwrite_columns': True, 'dropna': False, 'transform_dictionary': {'min': '_automl_target_col', 'max': '_automl_target_col', 'mean': '_automl_target_col'}, 'max_horizon': 60, 'origin_time_colname': 'origin', 'country_or_region': None, 'n_cross_validations': 5, 'short_series_handling': True, 'max_cores_per_iteration': 1, 'feature_lags': None, 'target_aggregation_function': None, 'window_size': 10, 'lags': {'_automl_target_col': ['auto']}, 'seasonality': 24, 'use_stl': None, 'freq': 'H', 'short_series_handling_configuration': 'auto', 'target_lags': [1], 'target_rolling_window_size': 10, 'arimax_raw_columns': ['row_weight', 'Low', 'Open', 'Dividends', 'High', 'Volume', 'Column1', 'Stock Splits', 'row_num'], 'lagging_columns': ['_automl_target_col_occurrence_lag1H'], 'rolling_window_columns': ['_automl_target_col_min_window10H', '_automl_target_col_max_window10H', '_automl_target_col_mean_window10H']},\\n    prophet_param_dict={'uncertainty_samples': 0}\\n\", \"primary_metric\": 0.00711871, \"best_metric\": 0.00711871}, {\"run_id\": \"AutoML_0b90bf69-8431-4129-a9b6-5bd791b646f3_7\", \"run_number\": 9, \"metric\": null, \"status\": \"Completed\", \"run_type\": null, \"training_percent\": \"100\", \"start_time\": \"2021-11-20T18:40:35.35096Z\", \"end_time\": \"2021-11-20T18:41:06.441731Z\", \"created_time\": \"2021-11-20T18:40:35.219388Z\", \"created_time_dt\": \"2021-11-20T18:40:35.219388Z\", \"duration\": \"0:00:31\", \"iteration\": \"7\", \"goal\": \"normalized_root_mean_squared_error_min\", \"run_name\": \"StandardScalerWrapper, LightGBM\", \"run_properties\": \"\\n    copy=True,\\n    with_mean=False,\\n    with_std=False\\n\", \"primary_metric\": 0.01920453, \"best_metric\": 0.00711871}, {\"run_id\": \"AutoML_0b90bf69-8431-4129-a9b6-5bd791b646f3_8\", \"run_number\": 10, \"metric\": null, \"status\": \"Completed\", \"run_type\": null, \"training_percent\": \"100\", \"start_time\": \"2021-11-20T18:41:07.674065Z\", \"end_time\": \"2021-11-20T18:41:59.780209Z\", \"created_time\": \"2021-11-20T18:41:07.548999Z\", \"created_time_dt\": \"2021-11-20T18:41:07.548999Z\", \"duration\": \"0:00:52\", \"iteration\": \"8\", \"goal\": \"normalized_root_mean_squared_error_min\", \"run_name\": \"StandardScalerWrapper, XGBoostRegressor\", \"run_properties\": \"\\n    copy=True,\\n    with_mean=False,\\n    with_std=False\\n\", \"primary_metric\": 0.01736541, \"best_metric\": 0.00711871}, {\"run_id\": \"AutoML_0b90bf69-8431-4129-a9b6-5bd791b646f3_9\", \"run_number\": 11, \"metric\": null, \"status\": \"Completed\", \"run_type\": null, \"training_percent\": \"100\", \"start_time\": \"2021-11-20T18:42:00.763085Z\", \"end_time\": \"2021-11-20T18:42:26.464307Z\", \"created_time\": \"2021-11-20T18:42:00.641694Z\", \"created_time_dt\": \"2021-11-20T18:42:00.641694Z\", \"duration\": \"0:00:25\", \"iteration\": \"9\", \"goal\": \"normalized_root_mean_squared_error_min\", \"run_name\": \"MaxAbsScaler, ElasticNet\", \"run_properties\": \"copy=True\", \"primary_metric\": 0.01124731, \"best_metric\": 0.00711871}, {\"run_id\": \"AutoML_0b90bf69-8431-4129-a9b6-5bd791b646f3_10\", \"run_number\": 12, \"metric\": null, \"status\": \"Completed\", \"run_type\": null, \"training_percent\": \"100\", \"start_time\": \"2021-11-20T18:42:27.719195Z\", \"end_time\": \"2021-11-20T18:42:55.456536Z\", \"created_time\": \"2021-11-20T18:42:27.609513Z\", \"created_time_dt\": \"2021-11-20T18:42:27.609513Z\", \"duration\": \"0:00:27\", \"iteration\": \"10\", \"goal\": \"normalized_root_mean_squared_error_min\", \"run_name\": \"RobustScaler, ElasticNet\", \"run_properties\": \"copy=True, quantile_range=[10, 90], with_centering=True,\\n             with_scaling=False\", \"primary_metric\": 0.00683031, \"best_metric\": 0.00683031}, {\"run_id\": \"AutoML_0b90bf69-8431-4129-a9b6-5bd791b646f3_11\", \"run_number\": 13, \"metric\": null, \"status\": \"Completed\", \"run_type\": null, \"training_percent\": \"100\", \"start_time\": \"2021-11-20T18:42:56.409007Z\", \"end_time\": \"2021-11-20T18:43:23.575548Z\", \"created_time\": \"2021-11-20T18:42:56.296408Z\", \"created_time_dt\": \"2021-11-20T18:42:56.296408Z\", \"duration\": \"0:00:27\", \"iteration\": \"11\", \"goal\": \"normalized_root_mean_squared_error_min\", \"run_name\": \"MinMaxScaler, ElasticNet\", \"run_properties\": \"copy=True, feature_range=(0, 1\", \"primary_metric\": 0.0087148, \"best_metric\": 0.00683031}, {\"run_id\": \"AutoML_0b90bf69-8431-4129-a9b6-5bd791b646f3_12\", \"run_number\": 14, \"metric\": null, \"status\": \"Completed\", \"run_type\": null, \"training_percent\": \"100\", \"start_time\": \"2021-11-20T18:43:24.510576Z\", \"end_time\": \"2021-11-20T18:43:51.514037Z\", \"created_time\": \"2021-11-20T18:43:24.39165Z\", \"created_time_dt\": \"2021-11-20T18:43:24.39165Z\", \"duration\": \"0:00:27\", \"iteration\": \"12\", \"goal\": \"normalized_root_mean_squared_error_min\", \"run_name\": \"StandardScalerWrapper, ElasticNet\", \"run_properties\": \"\\n    copy=True,\\n    with_mean=False,\\n    with_std=True\\n\", \"primary_metric\": 0.00691004, \"best_metric\": 0.00683031}, {\"run_id\": \"AutoML_0b90bf69-8431-4129-a9b6-5bd791b646f3_13\", \"run_number\": 15, \"metric\": null, \"status\": \"Completed\", \"run_type\": null, \"training_percent\": \"100\", \"start_time\": \"2021-11-20T18:43:52.508392Z\", \"end_time\": \"2021-11-20T18:44:23.036985Z\", \"created_time\": \"2021-11-20T18:43:52.40221Z\", \"created_time_dt\": \"2021-11-20T18:43:52.40221Z\", \"duration\": \"0:00:30\", \"iteration\": \"13\", \"goal\": \"normalized_root_mean_squared_error_min\", \"run_name\": \"MinMaxScaler, RandomForest\", \"run_properties\": \"copy=True, feature_range=(0, 1\", \"primary_metric\": 0.02542652, \"best_metric\": 0.00683031}, {\"run_id\": \"AutoML_0b90bf69-8431-4129-a9b6-5bd791b646f3_14\", \"run_number\": 16, \"metric\": null, \"status\": \"Completed\", \"run_type\": null, \"training_percent\": \"100\", \"start_time\": \"2021-11-20T18:44:24.07872Z\", \"end_time\": \"2021-11-20T18:44:49.132748Z\", \"created_time\": \"2021-11-20T18:44:23.967584Z\", \"created_time_dt\": \"2021-11-20T18:44:23.967584Z\", \"duration\": \"0:00:25\", \"iteration\": \"14\", \"goal\": \"normalized_root_mean_squared_error_min\", \"run_name\": \"MaxAbsScaler, ElasticNet\", \"run_properties\": \"copy=True\", \"primary_metric\": 0.01042979, \"best_metric\": 0.00683031}, {\"run_id\": \"AutoML_0b90bf69-8431-4129-a9b6-5bd791b646f3_15\", \"run_number\": 17, \"metric\": null, \"status\": \"Completed\", \"run_type\": null, \"training_percent\": \"100\", \"start_time\": \"2021-11-20T18:44:50.206626Z\", \"end_time\": \"2021-11-20T18:45:16.909648Z\", \"created_time\": \"2021-11-20T18:44:50.063179Z\", \"created_time_dt\": \"2021-11-20T18:44:50.063179Z\", \"duration\": \"0:00:26\", \"iteration\": \"15\", \"goal\": \"normalized_root_mean_squared_error_min\", \"run_name\": \"StandardScalerWrapper, ElasticNet\", \"run_properties\": \"\\n    copy=True,\\n    with_mean=True,\\n    with_std=False\\n\", \"primary_metric\": 0.00683023, \"best_metric\": 0.00683023}, {\"run_id\": \"AutoML_0b90bf69-8431-4129-a9b6-5bd791b646f3_16\", \"run_number\": 18, \"metric\": null, \"status\": \"Completed\", \"run_type\": null, \"training_percent\": \"100\", \"start_time\": \"2021-11-20T18:45:17.913505Z\", \"end_time\": \"2021-11-20T18:45:44.428069Z\", \"created_time\": \"2021-11-20T18:45:17.805692Z\", \"created_time_dt\": \"2021-11-20T18:45:17.805692Z\", \"duration\": \"0:00:26\", \"iteration\": \"16\", \"goal\": \"normalized_root_mean_squared_error_min\", \"run_name\": \"MaxAbsScaler, ElasticNet\", \"run_properties\": \"copy=True\", \"primary_metric\": 0.00684917, \"best_metric\": 0.00683023}, {\"run_id\": \"AutoML_0b90bf69-8431-4129-a9b6-5bd791b646f3_17\", \"run_number\": 19, \"metric\": null, \"status\": \"Completed\", \"run_type\": null, \"training_percent\": \"100\", \"start_time\": \"2021-11-20T18:45:45.405928Z\", \"end_time\": \"2021-11-20T18:46:12.27877Z\", \"created_time\": \"2021-11-20T18:45:45.272685Z\", \"created_time_dt\": \"2021-11-20T18:45:45.272685Z\", \"duration\": \"0:00:27\", \"iteration\": \"17\", \"goal\": \"normalized_root_mean_squared_error_min\", \"run_name\": \"StandardScalerWrapper, ElasticNet\", \"run_properties\": \"\\n    copy=True,\\n    with_mean=True,\\n    with_std=False\\n\", \"primary_metric\": 0.00683026, \"best_metric\": 0.00683023}, {\"run_id\": \"AutoML_0b90bf69-8431-4129-a9b6-5bd791b646f3_18\", \"run_number\": 20, \"metric\": null, \"status\": \"Completed\", \"run_type\": null, \"training_percent\": \"100\", \"start_time\": \"2021-11-20T18:46:13.326063Z\", \"end_time\": \"2021-11-20T18:46:43.187651Z\", \"created_time\": \"2021-11-20T18:46:13.210466Z\", \"created_time_dt\": \"2021-11-20T18:46:13.210466Z\", \"duration\": \"0:00:29\", \"iteration\": \"18\", \"goal\": \"normalized_root_mean_squared_error_min\", \"run_name\": \"MinMaxScaler, ExtremeRandomTrees\", \"run_properties\": \"copy=True, feature_range=(0, 1\", \"primary_metric\": 0.01451946, \"best_metric\": 0.00683023}, {\"run_id\": \"AutoML_0b90bf69-8431-4129-a9b6-5bd791b646f3_19\", \"run_number\": 21, \"metric\": null, \"status\": \"Completed\", \"run_type\": null, \"training_percent\": \"100\", \"start_time\": \"2021-11-20T18:46:44.226039Z\", \"end_time\": \"2021-11-20T18:47:40.462908Z\", \"created_time\": \"2021-11-20T18:46:44.095456Z\", \"created_time_dt\": \"2021-11-20T18:46:44.095456Z\", \"duration\": \"0:00:56\", \"iteration\": \"19\", \"goal\": \"normalized_root_mean_squared_error_min\", \"run_name\": \"MinMaxScaler, RandomForest\", \"run_properties\": \"copy=True, feature_range=(0, 1\", \"primary_metric\": 0.01312359, \"best_metric\": 0.00683023}, {\"run_id\": \"AutoML_0b90bf69-8431-4129-a9b6-5bd791b646f3_20\", \"run_number\": 22, \"metric\": null, \"status\": \"Completed\", \"run_type\": null, \"training_percent\": \"100\", \"start_time\": \"2021-11-20T18:47:41.431456Z\", \"end_time\": \"2021-11-20T18:48:16.247946Z\", \"created_time\": \"2021-11-20T18:47:41.305142Z\", \"created_time_dt\": \"2021-11-20T18:47:41.305142Z\", \"duration\": \"0:00:34\", \"iteration\": \"20\", \"goal\": \"normalized_root_mean_squared_error_min\", \"run_name\": \"MinMaxScaler, ExtremeRandomTrees\", \"run_properties\": \"copy=True, feature_range=(0, 1\", \"primary_metric\": 0.01598453, \"best_metric\": 0.00683023}, {\"run_id\": \"AutoML_0b90bf69-8431-4129-a9b6-5bd791b646f3_21\", \"run_number\": 23, \"metric\": null, \"status\": \"Completed\", \"run_type\": null, \"training_percent\": \"100\", \"start_time\": \"2021-11-20T18:48:17.197203Z\", \"end_time\": \"2021-11-20T18:48:45.016399Z\", \"created_time\": \"2021-11-20T18:48:17.087618Z\", \"created_time_dt\": \"2021-11-20T18:48:17.087618Z\", \"duration\": \"0:00:27\", \"iteration\": \"21\", \"goal\": \"normalized_root_mean_squared_error_min\", \"run_name\": \"MinMaxScaler, ExtremeRandomTrees\", \"run_properties\": \"copy=True, feature_range=(0, 1\", \"primary_metric\": 0.01807248, \"best_metric\": 0.00683023}, {\"run_id\": \"AutoML_0b90bf69-8431-4129-a9b6-5bd791b646f3_22\", \"run_number\": 24, \"metric\": null, \"status\": \"Completed\", \"run_type\": null, \"training_percent\": \"100\", \"start_time\": \"2021-11-20T18:48:46.116713Z\", \"end_time\": \"2021-11-20T18:49:14.938006Z\", \"created_time\": \"2021-11-20T18:48:46.012667Z\", \"created_time_dt\": \"2021-11-20T18:48:46.012667Z\", \"duration\": \"0:00:28\", \"iteration\": \"22\", \"goal\": \"normalized_root_mean_squared_error_min\", \"run_name\": \"MaxAbsScaler, ExtremeRandomTrees\", \"run_properties\": \"copy=True\", \"primary_metric\": 0.01376798, \"best_metric\": 0.00683023}, {\"run_id\": \"AutoML_0b90bf69-8431-4129-a9b6-5bd791b646f3_23\", \"run_number\": 25, \"metric\": null, \"status\": \"Completed\", \"run_type\": null, \"training_percent\": \"100\", \"start_time\": \"2021-11-20T18:49:15.943926Z\", \"end_time\": \"2021-11-20T18:49:41.670483Z\", \"created_time\": \"2021-11-20T18:49:15.80359Z\", \"created_time_dt\": \"2021-11-20T18:49:15.80359Z\", \"duration\": \"0:00:25\", \"iteration\": \"23\", \"goal\": \"normalized_root_mean_squared_error_min\", \"run_name\": \"MinMaxScaler, DecisionTree\", \"run_properties\": \"copy=True, feature_range=(0, 1\", \"primary_metric\": 0.03975814, \"best_metric\": 0.00683023}, {\"run_id\": \"AutoML_0b90bf69-8431-4129-a9b6-5bd791b646f3_24\", \"run_number\": 26, \"metric\": null, \"status\": \"Completed\", \"run_type\": null, \"training_percent\": \"100\", \"start_time\": \"2021-11-20T18:49:42.691015Z\", \"end_time\": \"2021-11-20T18:50:08.629105Z\", \"created_time\": \"2021-11-20T18:49:42.578099Z\", \"created_time_dt\": \"2021-11-20T18:49:42.578099Z\", \"duration\": \"0:00:26\", \"iteration\": \"24\", \"goal\": \"normalized_root_mean_squared_error_min\", \"run_name\": \"RobustScaler, ExtremeRandomTrees\", \"run_properties\": \"copy=True, quantile_range=[10, 90], with_centering=False,\\n             with_scaling=False\", \"primary_metric\": 0.02167617, \"best_metric\": 0.00683023}, {\"run_id\": \"AutoML_0b90bf69-8431-4129-a9b6-5bd791b646f3_25\", \"run_number\": 27, \"metric\": null, \"status\": \"Completed\", \"run_type\": null, \"training_percent\": \"100\", \"start_time\": \"2021-11-20T18:50:10.740375Z\", \"end_time\": \"2021-11-20T18:50:35.397551Z\", \"created_time\": \"2021-11-20T18:50:10.625027Z\", \"created_time_dt\": \"2021-11-20T18:50:10.625027Z\", \"duration\": \"0:00:24\", \"iteration\": \"25\", \"goal\": \"normalized_root_mean_squared_error_min\", \"run_name\": \"StandardScalerWrapper, ElasticNet\", \"run_properties\": \"\\n    copy=True,\\n    with_mean=False,\\n    with_std=True\\n\", \"primary_metric\": 0.01022019, \"best_metric\": 0.00683023}], \"children_metrics\": {\"categories\": [0], \"series\": {\"mean_absolute_error\": [{\"categories\": [\"0\", \"1\", \"2\", \"3\", \"4\", \"5\", \"6\", \"7\", \"8\", \"9\", \"10\", \"11\", \"12\", \"13\", \"14\", \"15\", \"16\", \"17\", \"18\", \"19\", \"20\", \"21\", \"22\", \"23\", \"24\", \"25\"], \"mode\": \"markers\", \"name\": \"mean_absolute_error\", \"stepped\": false, \"type\": \"scatter\", \"data\": [93.55282346491228, 59.88660653097588, 590.0005416515244, 50.905399862367496, 92.97361325327165, 77.50641059552811, 8.652899863019762, 24.765355049631296, 21.79770936129386, 13.93387477156333, 8.214236920350901, 10.65620394829249, 8.389611777380715, 33.333374888244215, 12.804442539615115, 8.214153859149615, 8.273404010407843, 8.214179453331134, 17.83044746332343, 16.176443263714066, 19.864640830405538, 22.424465134996076, 16.579230459085714, 50.852852146469566, 26.708176022864837, 12.552620880029195]}, {\"categories\": [\"0\", \"1\", \"2\", \"3\", \"4\", \"5\", \"6\", \"7\", \"8\", \"9\", \"10\", \"11\", \"12\", \"13\", \"14\", \"15\", \"16\", \"17\", \"18\", \"19\", \"20\", \"21\", \"22\", \"23\", \"24\", \"25\"], \"mode\": \"lines\", \"name\": \"mean_absolute_error_min\", \"stepped\": true, \"type\": \"scatter\", \"data\": [93.55282346491228, 59.88660653097588, 59.88660653097588, 50.905399862367496, 50.905399862367496, 50.905399862367496, 8.652899863019762, 8.652899863019762, 8.652899863019762, 8.652899863019762, 8.214236920350901, 8.214236920350901, 8.214236920350901, 8.214236920350901, 8.214236920350901, 8.214153859149615, 8.214153859149615, 8.214153859149615, 8.214153859149615, 8.214153859149615, 8.214153859149615, 8.214153859149615, 8.214153859149615, 8.214153859149615, 8.214153859149615, 8.214153859149615]}], \"root_mean_squared_error\": [{\"categories\": [\"0\", \"1\", \"2\", \"3\", \"4\", \"5\", \"6\", \"7\", \"8\", \"9\", \"10\", \"11\", \"12\", \"13\", \"14\", \"15\", \"16\", \"17\", \"18\", \"19\", \"20\", \"21\", \"22\", \"23\", \"24\", \"25\"], \"mode\": \"markers\", \"name\": \"root_mean_squared_error\", \"stepped\": false, \"type\": \"scatter\", \"data\": [106.54497421636961, 75.68118441853187, 592.4590993447333, 61.84766554697669, 105.99615315362807, 89.31488769200323, 11.127031479944602, 30.017999502588133, 27.143325684318096, 17.580320174993965, 10.676245242082162, 13.621828762697461, 10.800863287814648, 39.74340322131455, 16.302473363512156, 10.676123328263989, 10.705719567598837, 10.676162078022937, 22.694913605563826, 20.513078558908653, 24.984921695508145, 28.248524322606055, 21.520307176703504, 62.144704718143124, 33.88135203269686, 15.974856073758115]}, {\"categories\": [\"0\", \"1\", \"2\", \"3\", \"4\", \"5\", \"6\", \"7\", \"8\", \"9\", \"10\", \"11\", \"12\", \"13\", \"14\", \"15\", \"16\", \"17\", \"18\", \"19\", \"20\", \"21\", \"22\", \"23\", \"24\", \"25\"], \"mode\": \"lines\", \"name\": \"root_mean_squared_error_min\", \"stepped\": true, \"type\": \"scatter\", \"data\": [106.54497421636961, 75.68118441853187, 75.68118441853187, 61.84766554697669, 61.84766554697669, 61.84766554697669, 11.127031479944602, 11.127031479944602, 11.127031479944602, 11.127031479944602, 10.676245242082162, 10.676245242082162, 10.676245242082162, 10.676245242082162, 10.676245242082162, 10.676123328263989, 10.676123328263989, 10.676123328263989, 10.676123328263989, 10.676123328263989, 10.676123328263989, 10.676123328263989, 10.676123328263989, 10.676123328263989, 10.676123328263989, 10.676123328263989]}], \"r2_score\": [{\"categories\": [\"0\", \"1\", \"2\", \"3\", \"4\", \"5\", \"6\", \"7\", \"8\", \"9\", \"10\", \"11\", \"12\", \"13\", \"14\", \"15\", \"16\", \"17\", \"18\", \"19\", \"20\", \"21\", \"22\", \"23\", \"24\", \"25\"], \"mode\": \"markers\", \"name\": \"r2_score\", \"stepped\": false, \"type\": \"scatter\", \"data\": [-1.0, -0.9186664238153526, -1.0, -0.32034727489605525, -1.0, -0.866832506837618, 0.957365134759433, 0.680441935905043, 0.7451338089604519, 0.8934638302080433, 0.9607020726626073, 0.9361282046005209, 0.959789887142656, 0.3809703952966837, 0.9084939666709062, 0.9607029686760511, 0.9604880184632585, 0.9607026841208659, 0.8146362855499465, 0.8548467147556756, 0.7796077384925699, 0.7186940306189167, 0.8384655686437471, -0.34023256342051794, 0.5686737288660225, 0.912147070644218]}, {\"categories\": [\"0\", \"1\", \"2\", \"3\", \"4\", \"5\", \"6\", \"7\", \"8\", \"9\", \"10\", \"11\", \"12\", \"13\", \"14\", \"15\", \"16\", \"17\", \"18\", \"19\", \"20\", \"21\", \"22\", \"23\", \"24\", \"25\"], \"mode\": \"lines\", \"name\": \"r2_score_max\", \"stepped\": true, \"type\": \"scatter\", \"data\": [-1.0, -0.9186664238153526, -0.9186664238153526, -0.32034727489605525, -0.32034727489605525, -0.32034727489605525, 0.957365134759433, 0.957365134759433, 0.957365134759433, 0.957365134759433, 0.9607020726626073, 0.9607020726626073, 0.9607020726626073, 0.9607020726626073, 0.9607020726626073, 0.9607029686760511, 0.9607029686760511, 0.9607029686760511, 0.9607029686760511, 0.9607029686760511, 0.9607029686760511, 0.9607029686760511, 0.9607029686760511, 0.9607029686760511, 0.9607029686760511, 0.9607029686760511]}], \"median_absolute_error\": [{\"categories\": [\"0\", \"1\", \"2\", \"3\", \"4\", \"5\", \"6\", \"7\", \"8\", \"9\", \"10\", \"11\", \"12\", \"13\", \"14\", \"15\", \"16\", \"17\", \"18\", \"19\", \"20\", \"21\", \"22\", \"23\", \"24\", \"25\"], \"mode\": \"markers\", \"name\": \"median_absolute_error\", \"stepped\": false, \"type\": \"scatter\", \"data\": [87.9765625, 43.8603515625, 586.5136961197261, 49.514530436197944, 87.34310181088185, 69.87275041100784, 6.726202450188429, 22.179475665215158, 18.587451171875, 12.150998505740791, 6.732739901728746, 8.248824104873346, 7.366092368195678, 33.07005666648465, 11.068604845698792, 6.732824435190014, 6.877404264651522, 6.732811578704059, 14.49335671174731, 13.572569817506974, 16.860150764911214, 19.106896013589722, 13.53754553252893, 45.23460543620604, 21.518898931359217, 10.725044998962584]}, {\"categories\": [\"0\", \"1\", \"2\", \"3\", \"4\", \"5\", \"6\", \"7\", \"8\", \"9\", \"10\", \"11\", \"12\", \"13\", \"14\", \"15\", \"16\", \"17\", \"18\", \"19\", \"20\", \"21\", \"22\", \"23\", \"24\", \"25\"], \"mode\": \"lines\", \"name\": \"median_absolute_error_min\", \"stepped\": true, \"type\": \"scatter\", \"data\": [87.9765625, 43.8603515625, 43.8603515625, 43.8603515625, 43.8603515625, 43.8603515625, 6.726202450188429, 6.726202450188429, 6.726202450188429, 6.726202450188429, 6.726202450188429, 6.726202450188429, 6.726202450188429, 6.726202450188429, 6.726202450188429, 6.726202450188429, 6.726202450188429, 6.726202450188429, 6.726202450188429, 6.726202450188429, 6.726202450188429, 6.726202450188429, 6.726202450188429, 6.726202450188429, 6.726202450188429, 6.726202450188429]}], \"normalized_root_mean_squared_log_error\": [{\"categories\": [\"0\", \"1\", \"2\", \"3\", \"4\", \"5\", \"6\", \"7\", \"8\", \"9\", \"10\", \"11\", \"12\", \"13\", \"14\", \"15\", \"16\", \"17\", \"18\", \"19\", \"20\", \"21\", \"22\", \"23\", \"24\", \"25\"], \"mode\": \"markers\", \"name\": \"normalized_root_mean_squared_log_error\", \"stepped\": false, \"type\": \"scatter\", \"data\": [0.05861361786497236, 0.04141506082342655, 0.3496029820455545, 0.03390153766959768, 0.05830413187233556, 0.04902063534546311, 0.006089392986488173, 0.01653025959237255, 0.014974188693475544, 0.00962500290317575, 0.005852931549291356, 0.007476313123761985, 0.005922996962346114, 0.02174343451604955, 0.008940325494685463, 0.005852862366094036, 0.005869746804388484, 0.0058528843681205315, 0.012451576896220425, 0.01125877697588255, 0.01372070355353359, 0.015486814030621118, 0.011810813594778695, 0.033971028775368964, 0.018508866998438046, 0.008763030729868329]}, {\"categories\": [\"0\", \"1\", \"2\", \"3\", \"4\", \"5\", \"6\", \"7\", \"8\", \"9\", \"10\", \"11\", \"12\", \"13\", \"14\", \"15\", \"16\", \"17\", \"18\", \"19\", \"20\", \"21\", \"22\", \"23\", \"24\", \"25\"], \"mode\": \"lines\", \"name\": \"normalized_root_mean_squared_log_error_min\", \"stepped\": true, \"type\": \"scatter\", \"data\": [0.05861361786497236, 0.04141506082342655, 0.04141506082342655, 0.03390153766959768, 0.03390153766959768, 0.03390153766959768, 0.006089392986488173, 0.006089392986488173, 0.006089392986488173, 0.006089392986488173, 0.005852931549291356, 0.005852931549291356, 0.005852931549291356, 0.005852931549291356, 0.005852931549291356, 0.005852862366094036, 0.005852862366094036, 0.005852862366094036, 0.005852862366094036, 0.005852862366094036, 0.005852862366094036, 0.005852862366094036, 0.005852862366094036, 0.005852862366094036, 0.005852862366094036, 0.005852862366094036]}], \"mean_absolute_percentage_error\": [{\"categories\": [\"0\", \"1\", \"2\", \"3\", \"4\", \"5\", \"6\", \"7\", \"8\", \"9\", \"10\", \"11\", \"12\", \"13\", \"14\", \"15\", \"16\", \"17\", \"18\", \"19\", \"20\", \"21\", \"22\", \"23\", \"24\", \"25\"], \"mode\": \"markers\", \"name\": \"mean_absolute_percentage_error\", \"stepped\": false, \"type\": \"scatter\", \"data\": [2.2888588596527994, 1.485126200055099, 14.520595626417185, 1.263216716795925, 2.2745830441599657, 1.8962790105038525, 0.2134303207162421, 0.611149427448832, 0.5388796551727287, 0.34316577161725853, 0.2025893573089596, 0.2628777815348521, 0.2069275251820088, 0.8190817670712928, 0.3157247742876133, 0.20258726237892194, 0.2040545374789498, 0.2025879091027359, 0.44118413821809366, 0.3992251561896248, 0.4918611991137561, 0.5542359848091574, 0.409900015577937, 1.258328801503871, 0.66011902200572, 0.30957840782959806]}, {\"categories\": [\"0\", \"1\", \"2\", \"3\", \"4\", \"5\", \"6\", \"7\", \"8\", \"9\", \"10\", \"11\", \"12\", \"13\", \"14\", \"15\", \"16\", \"17\", \"18\", \"19\", \"20\", \"21\", \"22\", \"23\", \"24\", \"25\"], \"mode\": \"lines\", \"name\": \"mean_absolute_percentage_error_min\", \"stepped\": true, \"type\": \"scatter\", \"data\": [2.2888588596527994, 1.485126200055099, 1.485126200055099, 1.263216716795925, 1.263216716795925, 1.263216716795925, 0.2134303207162421, 0.2134303207162421, 0.2134303207162421, 0.2134303207162421, 0.2025893573089596, 0.2025893573089596, 0.2025893573089596, 0.2025893573089596, 0.2025893573089596, 0.20258726237892194, 0.20258726237892194, 0.20258726237892194, 0.20258726237892194, 0.20258726237892194, 0.20258726237892194, 0.20258726237892194, 0.20258726237892194, 0.20258726237892194, 0.20258726237892194, 0.20258726237892194]}], \"normalized_median_absolute_error\": [{\"categories\": [\"0\", \"1\", \"2\", \"3\", \"4\", \"5\", \"6\", \"7\", \"8\", \"9\", \"10\", \"11\", \"12\", \"13\", \"14\", \"15\", \"16\", \"17\", \"18\", \"19\", \"20\", \"21\", \"22\", \"23\", \"24\", \"25\"], \"mode\": \"markers\", \"name\": \"normalized_median_absolute_error\", \"stepped\": false, \"type\": \"scatter\", \"data\": [0.056284508920970956, 0.02806040925725478, 0.3752321575592633, 0.031677766792193904, 0.05587924162256117, 0.04470228583710745, 0.004303202933302689, 0.014189698488631686, 0.01189163945001273, 0.00777380889137459, 0.004307385379616631, 0.005277326150567251, 0.004712583440736341, 0.021157133747545208, 0.007081329054888182, 0.004307439461342715, 0.004399936877357562, 0.0043074312361861735, 0.009272372572378647, 0.008683283425332427, 0.010786569504083096, 0.012223963162108716, 0.00866087604063497, 0.02893961165180488, 0.013767083237328809, 0.0068615307732889045]}, {\"categories\": [\"0\", \"1\", \"2\", \"3\", \"4\", \"5\", \"6\", \"7\", \"8\", \"9\", \"10\", \"11\", \"12\", \"13\", \"14\", \"15\", \"16\", \"17\", \"18\", \"19\", \"20\", \"21\", \"22\", \"23\", \"24\", \"25\"], \"mode\": \"lines\", \"name\": \"normalized_median_absolute_error_min\", \"stepped\": true, \"type\": \"scatter\", \"data\": [0.056284508920970956, 0.02806040925725478, 0.02806040925725478, 0.02806040925725478, 0.02806040925725478, 0.02806040925725478, 0.004303202933302689, 0.004303202933302689, 0.004303202933302689, 0.004303202933302689, 0.004303202933302689, 0.004303202933302689, 0.004303202933302689, 0.004303202933302689, 0.004303202933302689, 0.004303202933302689, 0.004303202933302689, 0.004303202933302689, 0.004303202933302689, 0.004303202933302689, 0.004303202933302689, 0.004303202933302689, 0.004303202933302689, 0.004303202933302689, 0.004303202933302689, 0.004303202933302689]}], \"normalized_mean_absolute_error\": [{\"categories\": [\"0\", \"1\", \"2\", \"3\", \"4\", \"5\", \"6\", \"7\", \"8\", \"9\", \"10\", \"11\", \"12\", \"13\", \"14\", \"15\", \"16\", \"17\", \"18\", \"19\", \"20\", \"21\", \"22\", \"23\", \"24\", \"25\"], \"mode\": \"markers\", \"name\": \"normalized_mean_absolute_error\", \"stepped\": false, \"type\": \"scatter\", \"data\": [0.05985201714255291, 0.03831347967862907, 0.3774629265602748, 0.03256759927030585, 0.059481457513967675, 0.049586050359678925, 0.005535840520393192, 0.015844059004032872, 0.013945456973298728, 0.008914434442511306, 0.0052551984083540355, 0.006817488534987423, 0.005367397469382461, 0.021325596078653912, 0.008191860876003503, 0.00525514526853143, 0.00529305156507561, 0.005255161642846328, 0.011407333394213163, 0.01034915594918925, 0.012708743354582015, 0.014346434687519066, 0.010606845938965201, 0.03253398097129316, 0.01708701191435842, 0.008030753666961807]}, {\"categories\": [\"0\", \"1\", \"2\", \"3\", \"4\", \"5\", \"6\", \"7\", \"8\", \"9\", \"10\", \"11\", \"12\", \"13\", \"14\", \"15\", \"16\", \"17\", \"18\", \"19\", \"20\", \"21\", \"22\", \"23\", \"24\", \"25\"], \"mode\": \"lines\", \"name\": \"normalized_mean_absolute_error_min\", \"stepped\": true, \"type\": \"scatter\", \"data\": [0.05985201714255291, 0.03831347967862907, 0.03831347967862907, 0.03256759927030585, 0.03256759927030585, 0.03256759927030585, 0.005535840520393192, 0.005535840520393192, 0.005535840520393192, 0.005535840520393192, 0.0052551984083540355, 0.0052551984083540355, 0.0052551984083540355, 0.0052551984083540355, 0.0052551984083540355, 0.00525514526853143, 0.00525514526853143, 0.00525514526853143, 0.00525514526853143, 0.00525514526853143, 0.00525514526853143, 0.00525514526853143, 0.00525514526853143, 0.00525514526853143, 0.00525514526853143, 0.00525514526853143]}], \"explained_variance\": [{\"categories\": [\"0\", \"1\", \"2\", \"3\", \"4\", \"5\", \"6\", \"7\", \"8\", \"9\", \"10\", \"11\", \"12\", \"13\", \"14\", \"15\", \"16\", \"17\", \"18\", \"19\", \"20\", \"21\", \"22\", \"23\", \"24\", \"25\"], \"mode\": \"markers\", \"name\": \"explained_variance\", \"stepped\": false, \"type\": \"scatter\", \"data\": [-4.4408920985006264e-17, -0.5981803664090464, -2.2204460492503132e-17, -4.4408920985006264e-17, -6.661338147750939e-17, 0.22254007254200694, 0.9594817902430574, 0.8344673682315704, 0.8042601468875133, 0.9098808411590967, 0.9613679189526803, 0.9377307539727291, 0.9604533900974271, 0.6048761600844553, 0.9163134124616331, 0.9613687873193404, 0.961162937872438, 0.9613685004933925, 0.8536385670456885, 0.8568482270448381, 0.8289935221088592, 0.7406830468131699, 0.8465887963436559, -0.03438561324466862, 0.7262672213204251, 0.9184939267700308]}, {\"categories\": [\"0\", \"1\", \"2\", \"3\", \"4\", \"5\", \"6\", \"7\", \"8\", \"9\", \"10\", \"11\", \"12\", \"13\", \"14\", \"15\", \"16\", \"17\", \"18\", \"19\", \"20\", \"21\", \"22\", \"23\", \"24\", \"25\"], \"mode\": \"lines\", \"name\": \"explained_variance_max\", \"stepped\": true, \"type\": \"scatter\", \"data\": [-4.4408920985006264e-17, -4.4408920985006264e-17, -2.2204460492503132e-17, -2.2204460492503132e-17, -2.2204460492503132e-17, 0.22254007254200694, 0.9594817902430574, 0.9594817902430574, 0.9594817902430574, 0.9594817902430574, 0.9613679189526803, 0.9613679189526803, 0.9613679189526803, 0.9613679189526803, 0.9613679189526803, 0.9613687873193404, 0.9613687873193404, 0.9613687873193404, 0.9613687873193404, 0.9613687873193404, 0.9613687873193404, 0.9613687873193404, 0.9613687873193404, 0.9613687873193404, 0.9613687873193404, 0.9613687873193404]}], \"normalized_root_mean_squared_error\": [{\"categories\": [\"0\", \"1\", \"2\", \"3\", \"4\", \"5\", \"6\", \"7\", \"8\", \"9\", \"10\", \"11\", \"12\", \"13\", \"14\", \"15\", \"16\", \"17\", \"18\", \"19\", \"20\", \"21\", \"22\", \"23\", \"24\", \"25\"], \"mode\": \"markers\", \"name\": \"normalized_root_mean_squared_error\", \"stepped\": false, \"type\": \"scatter\", \"data\": [0.06816396755403892, 0.04841833072932926, 0.37903583084846104, 0.03956810068840821, 0.06781284990265427, 0.05714072532756749, 0.0071187084923540495, 0.019204528033169334, 0.01736540634471621, 0.011247310188130771, 0.006830310295090777, 0.008714797677097055, 0.006910036818921985, 0.02542652121876011, 0.010429785858733585, 0.006830232298642727, 0.006849166998402901, 0.006830257089463047, 0.014519458717121644, 0.013123592469817993, 0.015984530516983876, 0.018072476055653867, 0.013767984186347402, 0.03975813657301548, 0.021676173818895052, 0.010220187100338979]}, {\"categories\": [\"0\", \"1\", \"2\", \"3\", \"4\", \"5\", \"6\", \"7\", \"8\", \"9\", \"10\", \"11\", \"12\", \"13\", \"14\", \"15\", \"16\", \"17\", \"18\", \"19\", \"20\", \"21\", \"22\", \"23\", \"24\", \"25\"], \"mode\": \"lines\", \"name\": \"normalized_root_mean_squared_error_min\", \"stepped\": true, \"type\": \"scatter\", \"data\": [0.06816396755403892, 0.04841833072932926, 0.04841833072932926, 0.03956810068840821, 0.03956810068840821, 0.03956810068840821, 0.0071187084923540495, 0.0071187084923540495, 0.0071187084923540495, 0.0071187084923540495, 0.006830310295090777, 0.006830310295090777, 0.006830310295090777, 0.006830310295090777, 0.006830310295090777, 0.006830232298642727, 0.006830232298642727, 0.006830232298642727, 0.006830232298642727, 0.006830232298642727, 0.006830232298642727, 0.006830232298642727, 0.006830232298642727, 0.006830232298642727, 0.006830232298642727, 0.006830232298642727]}], \"root_mean_squared_log_error\": [{\"categories\": [\"0\", \"1\", \"2\", \"3\", \"4\", \"5\", \"6\", \"7\", \"8\", \"9\", \"10\", \"11\", \"12\", \"13\", \"14\", \"15\", \"16\", \"17\", \"18\", \"19\", \"20\", \"21\", \"22\", \"23\", \"24\", \"25\"], \"mode\": \"markers\", \"name\": \"root_mean_squared_log_error\", \"stepped\": false, \"type\": \"scatter\", \"data\": [0.026406730029062537, 0.018658400046569882, 0.15750386856343743, 0.015273391839989974, 0.026267299750689976, 0.02208487942857979, 0.002743406097291174, 0.007447247214319502, 0.0067462028899798205, 0.0043362764908766145, 0.0026368749947626607, 0.003368244265807411, 0.0026684410115742152, 0.009795897712586817, 0.004027814189084356, 0.0026368438262035316, 0.0026444506387493976, 0.002636853738602645, 0.005609710533345189, 0.0050723278120190455, 0.006181480136265112, 0.006977151931809056, 0.005321032507145167, 0.0153046991186799, 0.008338653571897359, 0.003947938979864589]}, {\"categories\": [\"0\", \"1\", \"2\", \"3\", \"4\", \"5\", \"6\", \"7\", \"8\", \"9\", \"10\", \"11\", \"12\", \"13\", \"14\", \"15\", \"16\", \"17\", \"18\", \"19\", \"20\", \"21\", \"22\", \"23\", \"24\", \"25\"], \"mode\": \"lines\", \"name\": \"root_mean_squared_log_error_min\", \"stepped\": true, \"type\": \"scatter\", \"data\": [0.026406730029062537, 0.018658400046569882, 0.018658400046569882, 0.015273391839989974, 0.015273391839989974, 0.015273391839989974, 0.002743406097291174, 0.002743406097291174, 0.002743406097291174, 0.002743406097291174, 0.0026368749947626607, 0.0026368749947626607, 0.0026368749947626607, 0.0026368749947626607, 0.0026368749947626607, 0.0026368438262035316, 0.0026368438262035316, 0.0026368438262035316, 0.0026368438262035316, 0.0026368438262035316, 0.0026368438262035316, 0.0026368438262035316, 0.0026368438262035316, 0.0026368438262035316, 0.0026368438262035316, 0.0026368438262035316]}], \"spearman_correlation\": [{\"categories\": [\"0\", \"1\", \"2\", \"3\", \"4\", \"5\", \"6\", \"7\", \"8\", \"9\", \"10\", \"11\", \"12\", \"13\", \"14\", \"15\", \"16\", \"17\", \"18\", \"19\", \"20\", \"21\", \"22\", \"23\", \"24\", \"25\"], \"mode\": \"markers\", \"name\": \"spearman_correlation\", \"stepped\": false, \"type\": \"scatter\", \"data\": [-1.0, 0.249143738420946, -1.0, -1.0, -1.0, 0.5910033704952036, 0.9750842623800884, 0.9369166065216717, 0.9186410952066032, 0.9442571947109153, 0.9761861550427794, 0.9579595540575578, 0.9756028001037075, 0.797005515642484, 0.9492870106300234, 0.9761861550427794, 0.9764324604614988, 0.9761861550427794, 0.9232811424355445, 0.9386132239840341, 0.9139836407168733, 0.8686392347400561, 0.9178123140883075, 0.7008360471101223, 0.8631573265202463, 0.9507648431423388]}, {\"categories\": [\"0\", \"1\", \"2\", \"3\", \"4\", \"5\", \"6\", \"7\", \"8\", \"9\", \"10\", \"11\", \"12\", \"13\", \"14\", \"15\", \"16\", \"17\", \"18\", \"19\", \"20\", \"21\", \"22\", \"23\", \"24\", \"25\"], \"mode\": \"lines\", \"name\": \"spearman_correlation_max\", \"stepped\": true, \"type\": \"scatter\", \"data\": [-1.0, 0.249143738420946, 0.249143738420946, 0.249143738420946, 0.249143738420946, 0.5910033704952036, 0.9750842623800884, 0.9750842623800884, 0.9750842623800884, 0.9750842623800884, 0.9761861550427794, 0.9761861550427794, 0.9761861550427794, 0.9761861550427794, 0.9761861550427794, 0.9761861550427794, 0.9764324604614988, 0.9764324604614988, 0.9764324604614988, 0.9764324604614988, 0.9764324604614988, 0.9764324604614988, 0.9764324604614988, 0.9764324604614988, 0.9764324604614988, 0.9764324604614988]}]}, \"metricName\": null, \"primaryMetricName\": \"normalized_root_mean_squared_error\", \"showLegend\": false}, \"run_metrics\": [{\"name\": \"normalized_mean_absolute_error\", \"run_id\": \"AutoML_0b90bf69-8431-4129-a9b6-5bd791b646f3\", \"categories\": [0], \"series\": [{\"data\": [0.00525514526853143]}]}, {\"name\": \"normalized_root_mean_squared_error\", \"run_id\": \"AutoML_0b90bf69-8431-4129-a9b6-5bd791b646f3\", \"categories\": [0], \"series\": [{\"data\": [0.006830232298642727]}]}, {\"name\": \"mean_absolute_percentage_error\", \"run_id\": \"AutoML_0b90bf69-8431-4129-a9b6-5bd791b646f3\", \"categories\": [0], \"series\": [{\"data\": [0.20258726237892194]}]}, {\"name\": \"normalized_median_absolute_error\", \"run_id\": \"AutoML_0b90bf69-8431-4129-a9b6-5bd791b646f3\", \"categories\": [0], \"series\": [{\"data\": [0.004307439461342715]}]}, {\"name\": \"normalized_root_mean_squared_log_error\", \"run_id\": \"AutoML_0b90bf69-8431-4129-a9b6-5bd791b646f3\", \"categories\": [0], \"series\": [{\"data\": [0.005852862366094036]}]}, {\"name\": \"spearman_correlation\", \"run_id\": \"AutoML_0b90bf69-8431-4129-a9b6-5bd791b646f3\", \"categories\": [0], \"series\": [{\"data\": [0.9761861550427794]}]}, {\"name\": \"root_mean_squared_error\", \"run_id\": \"AutoML_0b90bf69-8431-4129-a9b6-5bd791b646f3\", \"categories\": [0], \"series\": [{\"data\": [10.676123328263989]}]}, {\"name\": \"r2_score\", \"run_id\": \"AutoML_0b90bf69-8431-4129-a9b6-5bd791b646f3\", \"categories\": [0], \"series\": [{\"data\": [0.9607029686760511]}]}, {\"name\": \"explained_variance\", \"run_id\": \"AutoML_0b90bf69-8431-4129-a9b6-5bd791b646f3\", \"categories\": [0], \"series\": [{\"data\": [0.9613687873193404]}]}, {\"name\": \"median_absolute_error\", \"run_id\": \"AutoML_0b90bf69-8431-4129-a9b6-5bd791b646f3\", \"categories\": [0], \"series\": [{\"data\": [6.732824435190014]}]}, {\"name\": \"root_mean_squared_log_error\", \"run_id\": \"AutoML_0b90bf69-8431-4129-a9b6-5bd791b646f3\", \"categories\": [0], \"series\": [{\"data\": [0.0026368438262035316]}]}, {\"name\": \"mean_absolute_error\", \"run_id\": \"AutoML_0b90bf69-8431-4129-a9b6-5bd791b646f3\", \"categories\": [0], \"series\": [{\"data\": [8.214153859149615]}]}], \"run_logs\": \"\\nRun is completed.\", \"graph\": {}, \"widget_settings\": {\"childWidgetDisplay\": \"popup\", \"send_telemetry\": false, \"log_level\": \"INFO\", \"sdk_version\": \"1.34.0\"}, \"loading\": false}"
     },
     "metadata": {},
     "output_type": "display_data"
    }
   ],
   "source": [
    "\n",
    "RunDetails(remote_run).show()"
   ]
  },
  {
   "cell_type": "markdown",
   "metadata": {},
   "source": [
    "## Best Model\n",
    "\n",
    "TODO: In the cell below, get the best model from the automl experiments and display all the properties of the model.\n",
    "\n"
   ]
  },
  {
   "cell_type": "code",
   "execution_count": 24,
   "metadata": {
    "gather": {
     "logged": 1598431425670
    },
    "jupyter": {
     "outputs_hidden": false,
     "source_hidden": false
    },
    "nteract": {
     "transient": {
      "deleting": false
     }
    }
   },
   "outputs": [
    {
     "name": "stdout",
     "output_type": "stream",
     "text": [
      "mean_absolute_error 8.214153859149615\n",
      "root_mean_squared_error 10.676123328263989\n",
      "r2_score 0.9607029686760511\n",
      "median_absolute_error 6.732824435190014\n",
      "normalized_root_mean_squared_log_error 0.005852862366094036\n",
      "mean_absolute_percentage_error 0.20258726237892194\n",
      "normalized_median_absolute_error 0.004307439461342715\n",
      "normalized_mean_absolute_error 0.00525514526853143\n",
      "explained_variance 0.9613687873193404\n",
      "normalized_root_mean_squared_error 0.006830232298642727\n",
      "root_mean_squared_log_error 0.0026368438262035316\n",
      "spearman_correlation 0.9761861550427794\n",
      "residuals aml://artifactId/ExperimentRun/dcid.AutoML_0b90bf69-8431-4129-a9b6-5bd791b646f3_15/residuals\n",
      "predicted_true aml://artifactId/ExperimentRun/dcid.AutoML_0b90bf69-8431-4129-a9b6-5bd791b646f3_15/predicted_true\n",
      "forecast_validate_table aml://artifactId/ExperimentRun/dcid.AutoML_0b90bf69-8431-4129-a9b6-5bd791b646f3_15/forecast_validate_table\n",
      "forecast_train_table aml://artifactId/ExperimentRun/dcid.AutoML_0b90bf69-8431-4129-a9b6-5bd791b646f3_15/forecast_train_table\n"
     ]
    }
   ],
   "source": [
    "best_run, fitted_model = remote_run.get_output()\n",
    "best_run_metrics = best_run.get_metrics()\n",
    "for metric_name in best_run_metrics:\n",
    "    metric = best_run_metrics[metric_name]\n",
    "    print(metric_name, metric)"
   ]
  },
  {
   "cell_type": "code",
   "execution_count": 30,
   "metadata": {
    "gather": {
     "logged": 1598431426111
    },
    "jupyter": {
     "outputs_hidden": false,
     "source_hidden": false
    },
    "nteract": {
     "transient": {
      "deleting": false
     }
    }
   },
   "outputs": [
    {
     "data": {
      "text/plain": [
       "Model(workspace=Workspace.create(name='quick-starts-ws-164073', subscription_id='d4ad7261-832d-46b2-b093-22156001df5b', resource_group='aml-quickstarts-164073'), name=eth_auto, id=eth_auto:1, version=1, tags={'Training context': 'Auto ML'}, properties={'normalized_root_mean_squared_error': '0.006830232298642727'})"
      ]
     },
     "execution_count": 30,
     "metadata": {},
     "output_type": "execute_result"
    }
   ],
   "source": [
    "#TODO: Save the best model\n",
    "\n",
    "best_run.register_model(model_path='outputs/model.pkl', model_name='eth_auto',\n",
    "                        tags={'Training context':'Auto ML'},\n",
    "                        properties={'normalized_root_mean_squared_error': best_run_metrics['normalized_root_mean_squared_error']})"
   ]
  },
  {
   "cell_type": "markdown",
   "metadata": {},
   "source": [
    "## Model Deployment\n",
    "\n",
    "Remember you have to deploy only one of the two models you trained.. Perform the steps in the rest of this notebook only if you wish to deploy this model.\n",
    "\n",
    "TODO: In the cell below, register the model, create an inference config and deploy the model as a web service."
   ]
  },
  {
   "cell_type": "code",
   "execution_count": null,
   "metadata": {
    "gather": {
     "logged": 1598431435189
    },
    "jupyter": {
     "outputs_hidden": false,
     "source_hidden": false
    },
    "nteract": {
     "transient": {
      "deleting": false
     }
    }
   },
   "outputs": [],
   "source": [
    "\n",
    "deployment_config = AciWebservice.deploy_configuration(cpu_cores = 1, memory_gb = 1)\n",
    "service = Model.deploy(ws, \"aciservice\", [fitted_model[0]], inference_config, deployment_config)\n",
    "service.wait_for_deployment(show_output = True)\n",
    "print(service.state)"
   ]
  },
  {
   "cell_type": "markdown",
   "metadata": {
    "collapsed": true,
    "gather": {
     "logged": 1598431657736
    },
    "jupyter": {
     "outputs_hidden": false,
     "source_hidden": false
    },
    "nteract": {
     "transient": {
      "deleting": false
     }
    }
   },
   "source": [
    "TODO: In the cell below, send a request to the web service you deployed to test it."
   ]
  },
  {
   "cell_type": "code",
   "execution_count": null,
   "metadata": {
    "gather": {
     "logged": 1598432707604
    },
    "jupyter": {
     "outputs_hidden": false,
     "source_hidden": false
    },
    "nteract": {
     "transient": {
      "deleting": false
     }
    }
   },
   "outputs": [],
   "source": [
    "\n",
    "# Load image data\n",
    "data = [1.25, 1.5]\n",
    "# Post raw data to scoring URI\n",
    "res = request.post(url=service[0].scoring_uri, data=data, headers={'R7': np.float()})"
   ]
  },
  {
   "cell_type": "markdown",
   "metadata": {
    "collapsed": true,
    "gather": {
     "logged": 1598432765711
    },
    "jupyter": {
     "outputs_hidden": false,
     "source_hidden": false
    },
    "nteract": {
     "transient": {
      "deleting": false
     }
    }
   },
   "source": [
    "TODO: In the cell below, print the logs of the web service and delete the service"
   ]
  },
  {
   "cell_type": "code",
   "execution_count": null,
   "metadata": {
    "jupyter": {
     "outputs_hidden": false,
     "source_hidden": false
    },
    "nteract": {
     "transient": {
      "deleting": false
     }
    }
   },
   "outputs": [],
   "source": [
    "print(service.scoring_uri)\n",
    "print(service.swagger_uri)\n",
    "service.delete()\n"
   ]
  }
 ],
 "metadata": {
  "kernel_info": {
   "name": "python3"
  },
  "kernelspec": {
   "display_name": "Python 3",
   "language": "python",
   "name": "python3"
  },
  "language_info": {
   "codemirror_mode": {
    "name": "ipython",
    "version": 3
   },
   "file_extension": ".py",
   "mimetype": "text/x-python",
   "name": "python",
   "nbconvert_exporter": "python",
   "pygments_lexer": "ipython3",
   "version": "3.6.9"
  },
  "microsoft": {
   "host": {
    "AzureML": {
     "notebookHasBeenCompleted": true
    }
   }
  },
  "nteract": {
   "version": "nteract-front-end@1.0.0"
  }
 },
 "nbformat": 4,
 "nbformat_minor": 2
}
